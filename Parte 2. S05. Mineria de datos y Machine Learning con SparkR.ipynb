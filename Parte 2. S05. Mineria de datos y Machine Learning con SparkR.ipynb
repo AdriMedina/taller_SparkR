{
 "cells": [
  {
   "cell_type": "markdown",
   "metadata": {},
   "source": [
    "<span style='font-size:2.4em'>Procesamiento masivo de datos con SparkR</span>\n",
    "\n",
    "<span style='font-size:1.5em'>VIII Jornadas de usuarios de R. Albacete, Castilla-La Mancha, 17 y 18 de noviembre de 2016</span>\n",
    "\n",
    "Taller impartido por: <span style='font-size:1.2em'>Manuel Jesús Parra Royón</span>\n",
    "\n",
    "\n",
    "![Alt](https://sites.google.com/site/manuparra/home/logoparty.png)\n",
    "\n",
    "<HR>"
   ]
  },
  {
   "cell_type": "markdown",
   "metadata": {},
   "source": [
    "# Aplicando técnicas de Machine Learning en SparkR\n",
    "\n",
    "![Spark+R](https://sites.google.com/site/manuparra/home/SparkRlogo.png)"
   ]
  },
  {
   "cell_type": "markdown",
   "metadata": {},
   "source": [
    "Como siempre para todos nuestros scripts con SparkR, cargamos la biblioteca, y creamos una nueva sesión de SparkR."
   ]
  },
  {
   "cell_type": "code",
   "execution_count": 3,
   "metadata": {
    "collapsed": false
   },
   "outputs": [
    {
     "name": "stderr",
     "output_type": "stream",
     "text": [
      "\n",
      "Attaching package: ‘SparkR’\n",
      "\n",
      "The following objects are masked from ‘package:stats’:\n",
      "\n",
      "    cov, filter, lag, na.omit, predict, sd, var, window\n",
      "\n",
      "The following objects are masked from ‘package:base’:\n",
      "\n",
      "    as.data.frame, colnames, colnames<-, drop, endsWith, intersect,\n",
      "    rank, rbind, sample, startsWith, subset, summary, transform, union\n",
      "\n",
      "Spark package found in SPARK_HOME: /usr/local/spark/\n"
     ]
    },
    {
     "name": "stdout",
     "output_type": "stream",
     "text": [
      "Launching java with spark-submit command /usr/local/spark//bin/spark-submit   --driver-memory \"1g\" sparkr-shell /tmp/Rtmp0Q9Wlx/backend_portc566aae3a9e \n"
     ]
    },
    {
     "data": {
      "text/plain": [
       "Java ref type org.apache.spark.sql.SparkSession id 1 "
      ]
     },
     "metadata": {},
     "output_type": "display_data"
    }
   ],
   "source": [
    ".libPaths(c(file.path(Sys.getenv(\"SPARK_HOME\"),\"R/lib/\"),.libPaths()))\n",
    "library(SparkR)\n",
    "sparkR.session(appName=\"EntornoInicio\", master = \"local[*]\", sparkConfig = list(spark.driver.memory = \"1g\"))"
   ]
  },
  {
   "cell_type": "markdown",
   "metadata": {},
   "source": [
    "<HR>\n",
    "La biblioteca de ``SparkR`` actualmente soporta los siguientes algoritmos de aprendizaje automático : \n",
    "\n",
    "- modelo lineal generalizado, \n",
    "- modelo de regresión de supervivencia con tiempo de fallo acelerado (AFT), \n",
    "- modelo Bayes Naive y \n",
    "- modelo KMeans. \n",
    "\n",
    "SparkR utiliza MLlib para entrenar el modelo. Por tanto se puede analizar el resumen del modelo ajustado, predecir y   hacer predicciones sobre nuevos datos y escribir/leer el modelo para guardar / cargar los modelos ajustados. \n",
    "\n",
    "Además de ello, al igual que ocurre cuando usamos cualquier funcion en R, SparkR soporta el uso de fómulas, lo cual mejora bastante la adopción de SparkR para análisis de datos másivos.  SparkR soporta un subconjunto de los operadores de fórmula R disponibles para el ajuste del modelo, incluyendo '~', '.', ':', '+' y '-'."
   ]
  },
  {
   "cell_type": "markdown",
   "metadata": {},
   "source": [
    "####  Funciones enmascaradas\n",
    "\n",
    "Dado que parte de SparkR está modelado en el paquete dplyr, ciertas funciones de SparkR comparten los mismos nombres con los de dplyr. Dependiendo del orden de carga de los dos paquetes, algunas funciones del paquete cargado primero son enmascaradas por las del paquete cargado después. \n",
    "\n",
    "``cov in package:stats``\n",
    "\n",
    "``filter in package:stats``\n",
    "\n",
    "``sample in package:base``\n",
    "\n",
    "\n",
    "Por tanto hay siempre que usar el paquete que queramos usar al final de la importación de las bibliotecas para que se haga efectiva la función que queremos para SparkR.\n"
   ]
  },
  {
   "cell_type": "markdown",
   "metadata": {},
   "source": [
    "## Algoritmos\n",
    "\n",
    "El paquete SparkR soporta las siguientes funcionalidades de Machine Learning y Data mining"
   ]
  },
  {
   "cell_type": "markdown",
   "metadata": {},
   "source": [
    "### Generalized Linear Model"
   ]
  },
  {
   "cell_type": "markdown",
   "metadata": {},
   "source": [
    "Usamos la función de R"
   ]
  },
  {
   "cell_type": "code",
   "execution_count": 1,
   "metadata": {
    "collapsed": false
   },
   "outputs": [
    {
     "data": {
      "text/plain": [
       "\n",
       "Call:\n",
       "glm(formula = Sepal.Length ~ Sepal.Width + Species, family = \"gaussian\", \n",
       "    data = gaussianDF)\n",
       "\n",
       "Deviance Residuals: \n",
       "     Min        1Q    Median        3Q       Max  \n",
       "-1.30711  -0.25713  -0.05325   0.19542   1.41253  \n",
       "\n",
       "Coefficients:\n",
       "                  Estimate Std. Error t value Pr(>|t|)    \n",
       "(Intercept)         2.2514     0.3698   6.089 9.57e-09 ***\n",
       "Sepal.Width         0.8036     0.1063   7.557 4.19e-12 ***\n",
       "Speciesversicolor   1.4587     0.1121  13.012  < 2e-16 ***\n",
       "Speciesvirginica    1.9468     0.1000  19.465  < 2e-16 ***\n",
       "---\n",
       "Signif. codes:  0 ‘***’ 0.001 ‘**’ 0.01 ‘*’ 0.05 ‘.’ 0.1 ‘ ’ 1\n",
       "\n",
       "(Dispersion parameter for gaussian family taken to be 0.1918059)\n",
       "\n",
       "    Null deviance: 102.168  on 149  degrees of freedom\n",
       "Residual deviance:  28.004  on 146  degrees of freedom\n",
       "AIC: 183.94\n",
       "\n",
       "Number of Fisher Scoring iterations: 2\n"
      ]
     },
     "metadata": {},
     "output_type": "display_data"
    }
   ],
   "source": [
    "\n",
    "gaussianDF <- iris\n",
    "gaussianTestDF <- iris\n",
    "gaussianGLM <- glm(data = gaussianDF, Sepal.Length ~ Sepal.Width + Species, family = \"gaussian\")\n",
    "\n",
    "summary(gaussianGLM)\n"
   ]
  },
  {
   "cell_type": "markdown",
   "metadata": {},
   "source": [
    "Usamos la función para glm de SparkR"
   ]
  },
  {
   "cell_type": "code",
   "execution_count": 4,
   "metadata": {
    "collapsed": false
   },
   "outputs": [
    {
     "data": {
      "text/plain": [
       "\n",
       "Deviance Residuals: \n",
       "(Note: These are approximate quantiles with relative error <= 0.01)\n",
       "     Min        1Q    Median        3Q       Max  \n",
       "-1.30711  -0.26011  -0.06189   0.19111   1.41253  \n",
       "\n",
       "Coefficients:\n",
       "                    Estimate  Std. Error  t value  Pr(>|t|)  \n",
       "(Intercept)         2.2514    0.36975     6.0889   9.5681e-09\n",
       "Sepal_Width         0.80356   0.10634     7.5566   4.1873e-12\n",
       "Species_versicolor  1.4587    0.11211     13.012   0         \n",
       "Species_virginica   1.9468    0.10001     19.465   0         \n",
       "\n",
       "(Dispersion parameter for gaussian family taken to be 0.1918059)\n",
       "\n",
       "    Null deviance: 102.168  on 149  degrees of freedom\n",
       "Residual deviance:  28.004  on 146  degrees of freedom\n",
       "AIC: 183.9\n",
       "\n",
       "Number of Fisher Scoring iterations: 1\n"
      ]
     },
     "metadata": {},
     "output_type": "display_data"
    }
   ],
   "source": [
    "\n",
    "irisDF <- suppressWarnings(createDataFrame(iris))\n",
    "# Fit a generalized linear model of family \"gaussian\" with spark.glm\n",
    "gaussianDF <- irisDF\n",
    "gaussianTestDF <- irisDF\n",
    "gaussianGLM <- spark.glm(gaussianDF, Sepal_Length ~ Sepal_Width + Species, family = \"gaussian\")\n",
    "\n",
    "# Model summary\n",
    "summary(gaussianGLM)\n"
   ]
  },
  {
   "cell_type": "markdown",
   "metadata": {},
   "source": [
    "**¿Qué diferencias hay entre las dos?**"
   ]
  },
  {
   "cell_type": "markdown",
   "metadata": {},
   "source": [
    "Calculamos el modelo"
   ]
  },
  {
   "cell_type": "code",
   "execution_count": 5,
   "metadata": {
    "collapsed": false
   },
   "outputs": [
    {
     "name": "stdout",
     "output_type": "stream",
     "text": [
      "+------------+-----------+------------+-----------+-------+-----+------------------+\n",
      "|Sepal_Length|Sepal_Width|Petal_Length|Petal_Width|Species|label|        prediction|\n",
      "+------------+-----------+------------+-----------+-------+-----+------------------+\n",
      "|         5.1|        3.5|         1.4|        0.2| setosa|  5.1| 5.063856384860281|\n",
      "|         4.9|        3.0|         1.4|        0.2| setosa|  4.9| 4.662075934441678|\n",
      "|         4.7|        3.2|         1.3|        0.2| setosa|  4.7|  4.82278811460912|\n",
      "|         4.6|        3.1|         1.5|        0.2| setosa|  4.6|4.7424320245253995|\n",
      "|         5.0|        3.6|         1.4|        0.2| setosa|  5.0| 5.144212474944002|\n",
      "|         5.4|        3.9|         1.7|        0.4| setosa|  5.4| 5.385280745195163|\n",
      "|         4.6|        3.4|         1.4|        0.3| setosa|  4.6|  4.98350029477656|\n",
      "|         5.0|        3.4|         1.5|        0.2| setosa|  5.0|  4.98350029477656|\n",
      "|         4.4|        2.9|         1.4|        0.2| setosa|  4.4| 4.581719844357957|\n",
      "|         4.9|        3.1|         1.5|        0.1| setosa|  4.9|4.7424320245253995|\n",
      "|         5.4|        3.7|         1.5|        0.2| setosa|  5.4| 5.224568565027722|\n",
      "|         4.8|        3.4|         1.6|        0.2| setosa|  4.8|  4.98350029477656|\n",
      "|         4.8|        3.0|         1.4|        0.1| setosa|  4.8| 4.662075934441678|\n",
      "|         4.3|        3.0|         1.1|        0.1| setosa|  4.3| 4.662075934441678|\n",
      "|         5.8|        4.0|         1.2|        0.2| setosa|  5.8| 5.465636835278884|\n",
      "|         5.7|        4.4|         1.5|        0.4| setosa|  5.7|5.7870611956137665|\n",
      "|         5.4|        3.9|         1.3|        0.4| setosa|  5.4| 5.385280745195163|\n",
      "|         5.1|        3.5|         1.4|        0.3| setosa|  5.1| 5.063856384860281|\n",
      "|         5.7|        3.8|         1.7|        0.3| setosa|  5.7| 5.304924655111442|\n",
      "|         5.1|        3.8|         1.5|        0.3| setosa|  5.1| 5.304924655111442|\n",
      "+------------+-----------+------------+-----------+-------+-----+------------------+\n",
      "only showing top 20 rows\n"
     ]
    },
    {
     "data": {
      "text/plain": [
       "\n",
       "Deviance Residuals: \n",
       "(Note: These are approximate quantiles with relative error <= 0.01)\n",
       "     Min        1Q    Median        3Q       Max  \n",
       "-1.30711  -0.26011  -0.06189   0.19111   1.41253  \n",
       "\n",
       "Coefficients:\n",
       "                    Estimate  Std. Error  t value  Pr(>|t|)  \n",
       "(Intercept)         2.2514    0.36975     6.0889   9.5681e-09\n",
       "Sepal_Width         0.80356   0.10634     7.5566   4.1873e-12\n",
       "Species_versicolor  1.4587    0.11211     13.012   0         \n",
       "Species_virginica   1.9468    0.10001     19.465   0         \n",
       "\n",
       "(Dispersion parameter for gaussian family taken to be 0.1918059)\n",
       "\n",
       "    Null deviance: 102.168  on 149  degrees of freedom\n",
       "Residual deviance:  28.004  on 146  degrees of freedom\n",
       "AIC: 183.9\n",
       "\n",
       "Number of Fisher Scoring iterations: 1\n"
      ]
     },
     "metadata": {},
     "output_type": "display_data"
    },
    {
     "data": {
      "text/plain": [
       "\n",
       "Deviance Residuals: \n",
       "(Note: These are approximate quantiles with relative error <= 0.01)\n",
       "     Min        1Q    Median        3Q       Max  \n",
       "-1.87365  -0.93236  -0.35150   0.96084   2.35669  \n",
       "\n",
       "Coefficients:\n",
       "              Estimate  Std. Error  t value  Pr(>|t|)  \n",
       "(Intercept)   -13.046   3.0974      -4.2119  2.5319e-05\n",
       "Sepal_Length  1.9024    0.51692     3.6802   0.00023303\n",
       "Sepal_Width   0.40466   0.86283     0.46899  0.63908   \n",
       "\n",
       "(Dispersion parameter for binomial family taken to be 1)\n",
       "\n",
       "    Null deviance: 138.63  on 99  degrees of freedom\n",
       "Residual deviance: 110.33  on 97  degrees of freedom\n",
       "AIC: 116.3\n",
       "\n",
       "Number of Fisher Scoring iterations: 5\n"
      ]
     },
     "metadata": {},
     "output_type": "display_data"
    },
    {
     "name": "stdout",
     "output_type": "stream",
     "text": [
      "+------------+-----------+------------+-----------+----------+-----+-------------------+\n",
      "|Sepal_Length|Sepal_Width|Petal_Length|Petal_Width|   Species|label|         prediction|\n",
      "+------------+-----------+------------+-----------+----------+-----+-------------------+\n",
      "|         7.0|        3.2|         4.7|        1.4|versicolor|  0.0| 0.8271421517601683|\n",
      "|         6.4|        3.2|         4.5|        1.5|versicolor|  0.0| 0.6044595910412891|\n",
      "|         6.9|        3.1|         4.9|        1.5|versicolor|  0.0| 0.7916340858282183|\n",
      "|         5.5|        2.3|         4.0|        1.3|versicolor|  0.0|0.16080518180591663|\n",
      "|         6.5|        2.8|         4.6|        1.5|versicolor|  0.0| 0.6112229217050481|\n",
      "|         5.7|        2.8|         4.5|        1.3|versicolor|  0.0|0.25550872955006354|\n",
      "|         6.3|        3.3|         4.7|        1.6|versicolor|  0.0| 0.5681507664364411|\n",
      "|         4.9|        2.4|         3.3|        1.0|versicolor|  0.0|0.05990570219970873|\n",
      "|         6.6|        2.9|         4.6|        1.3|versicolor|  0.0| 0.6644434078306489|\n",
      "|         5.2|        2.7|         3.9|        1.4|versicolor|  0.0|0.11293577405859923|\n",
      "|         5.0|        2.0|         3.5|        1.0|versicolor|  0.0|0.06152372321586074|\n",
      "|         5.9|        3.0|         4.2|        1.5|versicolor|  0.0|0.35250697207598863|\n",
      "|         6.0|        2.2|         4.0|        1.0|versicolor|  0.0| 0.3226701829081958|\n",
      "|         6.1|        2.9|         4.7|        1.4|versicolor|  0.0|0.43339115381457977|\n",
      "|         5.6|        2.9|         3.6|        1.3|versicolor|  0.0|0.22807442624366245|\n",
      "|         6.7|        3.1|         4.4|        1.4|versicolor|  0.0| 0.7219848389339555|\n",
      "|         5.6|        3.0|         4.5|        1.5|versicolor|  0.0|0.23527698971400093|\n",
      "|         5.8|        2.7|         4.1|        1.0|versicolor|  0.0| 0.2850245335200048|\n",
      "|         6.2|        2.2|         4.5|        1.5|versicolor|  0.0| 0.4107047877448232|\n",
      "|         5.6|        2.5|         3.9|        1.1|versicolor|  0.0| 0.2008356196164468|\n",
      "+------------+-----------+------------+-----------+----------+-----+-------------------+\n",
      "only showing top 20 rows\n"
     ]
    }
   ],
   "source": [
    "# Calculamos la predicción\n",
    "gaussianPredictions <- predict(gaussianGLM, gaussianTestDF)\n",
    "# Mostramos las predicciones\n",
    "showDF(gaussianPredictions)\n",
    "\n",
    "# Usamos la función de R de glm con la familia gaussian\n",
    "gaussianGLM2 <- glm(Sepal_Length ~ Sepal_Width + Species, gaussianDF, family = \"gaussian\")\n",
    "summary(gaussianGLM2)\n",
    "\n",
    "# Ahora usamos la función de glm de spark para la familia binomial.\n",
    "binomialDF <- filter(irisDF, irisDF$Species != \"setosa\")\n",
    "binomialTestDF <- binomialDF\n",
    "binomialGLM <- spark.glm(binomialDF, Species ~ Sepal_Length + Sepal_Width, family = \"binomial\")\n",
    "\n",
    "# Imprimimos el modelo\n",
    "summary(binomialGLM)\n",
    "\n",
    "# Obtenemos la predicción\n",
    "binomialPredictions <- predict(binomialGLM, binomialTestDF)\n",
    "showDF(binomialPredictions)"
   ]
  },
  {
   "cell_type": "markdown",
   "metadata": {},
   "source": [
    "### Accelerated Failure Time (AFT) Survival Regression Model"
   ]
  },
  {
   "cell_type": "markdown",
   "metadata": {},
   "source": [
    "``spark.survreg()`` ajusta a un modelo de regresión AFT (accelerated failure time) sobre un SparkDataFrame. Para esta función no se permite el uso del operador . en la formula."
   ]
  },
  {
   "cell_type": "code",
   "execution_count": 6,
   "metadata": {
    "collapsed": false
   },
   "outputs": [
    {
     "data": {
      "text/html": [
       "<table>\n",
       "<thead><tr><th scope=col>futime</th><th scope=col>fustat</th><th scope=col>age</th><th scope=col>resid_ds</th><th scope=col>rx</th><th scope=col>ecog_ps</th></tr></thead>\n",
       "<tbody>\n",
       "\t<tr><td> 59    </td><td>1      </td><td>72.3315</td><td>2      </td><td>1      </td><td>1      </td></tr>\n",
       "\t<tr><td>115    </td><td>1      </td><td>74.4932</td><td>2      </td><td>1      </td><td>1      </td></tr>\n",
       "\t<tr><td>156    </td><td>1      </td><td>66.4658</td><td>2      </td><td>1      </td><td>2      </td></tr>\n",
       "\t<tr><td>421    </td><td>0      </td><td>53.3644</td><td>2      </td><td>2      </td><td>1      </td></tr>\n",
       "\t<tr><td>431    </td><td>1      </td><td>50.3397</td><td>2      </td><td>1      </td><td>1      </td></tr>\n",
       "\t<tr><td>448    </td><td>0      </td><td>56.4301</td><td>1      </td><td>1      </td><td>2      </td></tr>\n",
       "</tbody>\n",
       "</table>\n"
      ],
      "text/latex": [
       "\\begin{tabular}{r|llllll}\n",
       " futime & fustat & age & resid\\_ds & rx & ecog\\_ps\\\\\n",
       "\\hline\n",
       "\t  59     & 1       & 72.3315 & 2       & 1       & 1      \\\\\n",
       "\t 115     & 1       & 74.4932 & 2       & 1       & 1      \\\\\n",
       "\t 156     & 1       & 66.4658 & 2       & 1       & 2      \\\\\n",
       "\t 421     & 0       & 53.3644 & 2       & 2       & 1      \\\\\n",
       "\t 431     & 1       & 50.3397 & 2       & 1       & 1      \\\\\n",
       "\t 448     & 0       & 56.4301 & 1       & 1       & 2      \\\\\n",
       "\\end{tabular}\n"
      ],
      "text/plain": [
       "  futime fustat age     resid_ds rx ecog_ps\n",
       "1  59    1      72.3315 2        1  1      \n",
       "2 115    1      74.4932 2        1  1      \n",
       "3 156    1      66.4658 2        1  2      \n",
       "4 421    0      53.3644 2        2  1      \n",
       "5 431    1      50.3397 2        1  1      \n",
       "6 448    0      56.4301 1        1  2      "
      ]
     },
     "metadata": {},
     "output_type": "display_data"
    },
    {
     "data": {
      "text/html": [
       "<strong>$coefficients</strong> = <table>\n",
       "<thead><tr><th></th><th scope=col>Value</th></tr></thead>\n",
       "<tbody>\n",
       "\t<tr><th scope=row>(Intercept)</th><td> 6.8966930</td></tr>\n",
       "\t<tr><th scope=row>ecog_ps</th><td>-0.3850426</td></tr>\n",
       "\t<tr><th scope=row>rx</th><td> 0.5286457</td></tr>\n",
       "\t<tr><th scope=row>Log(scale)</th><td>-0.1234418</td></tr>\n",
       "</tbody>\n",
       "</table>\n"
      ],
      "text/latex": [
       "\\textbf{\\$coefficients} = \\begin{tabular}{r|l}\n",
       "  & Value\\\\\n",
       "\\hline\n",
       "\t(Intercept) &  6.8966930\\\\\n",
       "\tecog\\_ps & -0.3850426\\\\\n",
       "\trx &  0.5286457\\\\\n",
       "\tLog(scale) & -0.1234418\\\\\n",
       "\\end{tabular}\n"
      ],
      "text/markdown": [
       "**$coefficients** = 1. 6.89669304514886\n",
       "2. -0.385042602261584\n",
       "3. 0.528645669930862\n",
       "4. -0.123441815519157\n",
       "\n",
       "\n"
      ],
      "text/plain": [
       "$coefficients\n",
       "                 Value\n",
       "(Intercept)  6.8966930\n",
       "ecog_ps     -0.3850426\n",
       "rx           0.5286457\n",
       "Log(scale)  -0.1234418\n"
      ]
     },
     "metadata": {},
     "output_type": "display_data"
    },
    {
     "name": "stdout",
     "output_type": "stream",
     "text": [
      "+------+------+-------+--------+---+-------+------+------------------+\n",
      "|futime|fustat|    age|resid_ds| rx|ecog_ps| label|        prediction|\n",
      "+------+------+-------+--------+---+-------+------+------------------+\n",
      "|  59.0|   1.0|72.3315|     2.0|1.0|    1.0|  59.0| 1141.725636174727|\n",
      "| 115.0|   1.0|74.4932|     2.0|1.0|    1.0| 115.0| 1141.725636174727|\n",
      "| 156.0|   1.0|66.4658|     2.0|1.0|    2.0| 156.0|  776.854839028128|\n",
      "| 421.0|   0.0|53.3644|     2.0|2.0|    1.0| 421.0|1937.0893352254895|\n",
      "| 431.0|   1.0|50.3397|     2.0|1.0|    1.0| 431.0| 1141.725636174727|\n",
      "| 448.0|   0.0|56.4301|     1.0|1.0|    2.0| 448.0|  776.854839028128|\n",
      "| 464.0|   1.0| 56.937|     2.0|2.0|    2.0| 464.0|1318.0375179640846|\n",
      "| 475.0|   1.0|59.8548|     2.0|2.0|    2.0| 475.0|1318.0375179640846|\n",
      "| 477.0|   0.0|64.1753|     2.0|1.0|    1.0| 477.0| 1141.725636174727|\n",
      "| 563.0|   1.0|55.1781|     1.0|2.0|    2.0| 563.0|1318.0375179640846|\n",
      "| 638.0|   1.0|56.7562|     1.0|1.0|    2.0| 638.0|  776.854839028128|\n",
      "| 744.0|   0.0|50.1096|     1.0|2.0|    1.0| 744.0|1937.0893352254895|\n",
      "| 769.0|   0.0|59.6301|     2.0|2.0|    2.0| 769.0|1318.0375179640846|\n",
      "| 770.0|   0.0|57.0521|     2.0|2.0|    1.0| 770.0|1937.0893352254895|\n",
      "| 803.0|   0.0|39.2712|     1.0|1.0|    1.0| 803.0| 1141.725636174727|\n",
      "| 855.0|   0.0|43.1233|     1.0|1.0|    2.0| 855.0|  776.854839028128|\n",
      "|1040.0|   0.0|38.8932|     2.0|1.0|    2.0|1040.0|  776.854839028128|\n",
      "|1106.0|   0.0|   44.6|     1.0|1.0|    1.0|1106.0| 1141.725636174727|\n",
      "|1129.0|   0.0|53.9068|     1.0|2.0|    1.0|1129.0|1937.0893352254895|\n",
      "|1206.0|   0.0|44.2055|     2.0|2.0|    1.0|1206.0|1937.0893352254895|\n",
      "+------+------+-------+--------+---+-------+------+------------------+\n",
      "only showing top 20 rows\n"
     ]
    }
   ],
   "source": [
    "# Use the ovarian dataset available in R survival package\n",
    "library(survival)\n",
    "\n",
    "ovarianDF <- suppressWarnings(createDataFrame(ovarian))\n",
    "\n",
    "head(ovarianDF)\n",
    "\n",
    "aftDF <- ovarianDF\n",
    "aftTestDF <- ovarianDF\n",
    "\n",
    "#Aplicamos la función\n",
    "aftModel <- spark.survreg(aftDF, Surv(futime, fustat) ~ ecog_ps + rx)\n",
    "\n",
    "# Model summary\n",
    "summary(aftModel)\n",
    "\n",
    "# Prediction\n",
    "aftPredictions <- predict(aftModel, aftTestDF)\n",
    "showDF(aftPredictions)"
   ]
  },
  {
   "cell_type": "markdown",
   "metadata": {},
   "source": [
    "### K-Means"
   ]
  },
  {
   "cell_type": "code",
   "execution_count": 7,
   "metadata": {
    "collapsed": false
   },
   "outputs": [
    {
     "data": {},
     "metadata": {},
     "output_type": "display_data"
    },
    {
     "data": {
      "text/plain": [
       "K-means clustering with 3 clusters of sizes 50, 52, 48\n",
       "\n",
       "Cluster means:\n",
       "  Petal.Length Petal.Width\n",
       "1     1.462000    0.246000\n",
       "2     4.269231    1.342308\n",
       "3     5.595833    2.037500\n",
       "\n",
       "Clustering vector:\n",
       "  [1] 1 1 1 1 1 1 1 1 1 1 1 1 1 1 1 1 1 1 1 1 1 1 1 1 1 1 1 1 1 1 1 1 1 1 1 1 1\n",
       " [38] 1 1 1 1 1 1 1 1 1 1 1 1 1 2 2 2 2 2 2 2 2 2 2 2 2 2 2 2 2 2 2 2 2 2 2 2 2\n",
       " [75] 2 2 2 3 2 2 2 2 2 3 2 2 2 2 2 2 2 2 2 2 2 2 2 2 2 2 3 3 3 3 3 3 2 3 3 3 3\n",
       "[112] 3 3 3 3 3 3 3 3 2 3 3 3 3 3 3 2 3 3 3 3 3 3 3 3 3 3 3 2 3 3 3 3 3 3 3 3 3\n",
       "[149] 3 3\n",
       "\n",
       "Within cluster sum of squares by cluster:\n",
       "[1]  2.02200 13.05769 16.29167\n",
       " (between_SS / total_SS =  94.3 %)\n",
       "\n",
       "Available components:\n",
       "\n",
       "[1] \"cluster\"      \"centers\"      \"totss\"        \"withinss\"     \"tot.withinss\"\n",
       "[6] \"betweenss\"    \"size\"         \"iter\"         \"ifault\"      "
      ]
     },
     "metadata": {},
     "output_type": "display_data"
    },
    {
     "data": {
      "image/png": "[encoded data removed]",
      "text/plain": [
       "plot without title"
      ]
     },
     "metadata": {},
     "output_type": "display_data"
    }
   ],
   "source": [
    "\n",
    "library(ggplot2)\n",
    "ggplot(iris, aes(Petal.Length, Petal.Width, color = Species)) + geom_point()\n",
    "\n",
    "set.seed(20)\n",
    "irisCluster <- kmeans(iris[, 3:4], 3, nstart = 20)\n",
    "irisCluster\n"
   ]
  },
  {
   "cell_type": "code",
   "execution_count": null,
   "metadata": {
    "collapsed": true
   },
   "outputs": [],
   "source": [
    "# Ajustamos un modelo k-medias. \n",
    "\n",
    "irisDF <- suppressWarnings(createDataFrame(iris))\n",
    "kmeansDF <- irisDF\n",
    "kmeansTestDF <- irisDF\n",
    "kmeansModel <- spark.kmeans(kmeansDF, ~ Sepal_Length + Sepal_Width + Petal_Length + Petal_Width,\n",
    "                            k = 3)\n",
    "\n",
    "# Vemos el resumen\n",
    "summary(kmeansModel)\n",
    "\n",
    "# Vemos los resultados del ajuste\n",
    "showDF(fitted(kmeansModel))\n",
    "\n",
    "# y vemos la predicción\n",
    "kmeansPredictions <- predict(kmeansModel, kmeansTestDF)\n",
    "showDF(kmeansPredictions)\n",
    "\n",
    "# Mostramos la información de los grupos.\n",
    "table(kmeansModel$cluster, iris$Species)\n"
   ]
  },
  {
   "cell_type": "markdown",
   "metadata": {
    "collapsed": true
   },
   "source": [
    "### Naive Bayes\n"
   ]
  },
  {
   "cell_type": "code",
   "execution_count": null,
   "metadata": {
    "collapsed": true
   },
   "outputs": [],
   "source": [
    "### Aplicamos NAIVE.BAYES \n",
    "\n",
    "titanic <- as.data.frame(Titanic)\n",
    "titanicDF <- createDataFrame(titanic[titanic$Freq > 0, -5])\n",
    "nbDF <- titanicDF\n",
    "nbTestDF <- titanicDF\n",
    "nbModel <- spark.naiveBayes(nbDF, Survived ~ Class + Sex + Age)\n",
    "\n",
    "# Resumen del modelo\n",
    "summary(nbModel)\n",
    "\n",
    "# Predicción\n",
    "nbPredictions <- predict(nbModel, nbTestDF)\n",
    "showDF(nbPredictions)\n"
   ]
  },
  {
   "cell_type": "markdown",
   "metadata": {
    "collapsed": true
   },
   "source": [
    "### Creación de Conjuntos de entrenamiento y prueba\n",
    "\n",
    "Existen varias formas de hacer los conjuntos de prueba y test. Se pueden usar las funciones de muestreo (sample) que trabajan sobre los SparkDataFrames."
   ]
  },
  {
   "cell_type": "code",
   "execution_count": null,
   "metadata": {
    "collapsed": true
   },
   "outputs": [],
   "source": [
    "train_df <- sample(df_training, withReplacement=FALSE, fraction=0.85, seed=42)\n",
    "test_df <- except(df_training, train_df)\n",
    "\n",
    "count(train_df)\n",
    "count(test_df)"
   ]
  },
  {
   "cell_type": "markdown",
   "metadata": {},
   "source": [
    "### Persistencia de los MODELOS de ML.\n",
    "\n",
    "Si necesitamos almacenar el modelo que hemos ajustado podemo hacerlo mediante el uso de la funcion ``write.ml``. \n",
    "Al igual que luego podemos recuperarlo con ``read.ml``."
   ]
  },
  {
   "cell_type": "code",
   "execution_count": null,
   "metadata": {
    "collapsed": true
   },
   "outputs": [],
   "source": [
    "modelPath <- tempfile(pattern = \"ml\", fileext = \".tmp\")\n",
    "write.ml(gaussianGLM, modelPath)\n",
    "gaussianGLM2 <- read.ml(modelPath)"
   ]
  },
  {
   "cell_type": "markdown",
   "metadata": {},
   "source": [
    "<HR>\n",
    "# Zona de pruebas del NOTEBOOK en SparkR\n",
    "![FooterSparkR](https://sites.google.com/site/manuparra/home/footer_SparkR_v2.png)\n"
   ]
  },
  {
   "cell_type": "code",
   "execution_count": null,
   "metadata": {
    "collapsed": false
   },
   "outputs": [],
   "source": []
  }
 ],
 "metadata": {
  "anaconda-cloud": {},
  "kernelspec": {
   "display_name": "R",
   "language": "R",
   "name": "ir"
  },
  "language_info": {
   "codemirror_mode": "r",
   "file_extension": ".r",
   "mimetype": "text/x-r-source",
   "name": "R",
   "pygments_lexer": "r",
   "version": "3.3.1"
  }
 },
 "nbformat": 4,
 "nbformat_minor": 1
}
