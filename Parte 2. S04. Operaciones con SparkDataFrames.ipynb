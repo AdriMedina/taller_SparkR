{
 "cells": [
  {
   "cell_type": "markdown",
   "metadata": {},
   "source": [
    "<span style='font-size:2.4em'>Procesamiento masivo de datos con SparkR</span>\n",
    "\n",
    "<span style='font-size:1.5em'>VIII Jornadas de usuarios de R. Albacete, Castilla-La Mancha, 17 y 18 de noviembre de 2016</span>\n",
    "\n",
    "Taller impartido por: <span style='font-size:1.2em'>Manuel Jesús Parra Royón</span>\n",
    "\n",
    "\n",
    "![Alt](https://sites.google.com/site/manuparra/home/logoparty.png)\n",
    "\n",
    "<HR>"
   ]
  },
  {
   "cell_type": "markdown",
   "metadata": {},
   "source": [
    "# Operaciones sobre SparkDataFrames\n",
    "\n",
    "![Spark+R](https://sites.google.com/site/manuparra/home/SparkRlogo.png)"
   ]
  },
  {
   "cell_type": "markdown",
   "metadata": {},
   "source": [
    "Como siempre para todos nuestros `scripts` con **SparkR**, cargamos la biblioteca, y creamos una nueva sesión de SparkR.\n",
    "\n",
    "En este caso:\n",
    "\n",
    "<span style=\"background-color:red;color:white\">&nbsp; &nbsp; Cuidado con la cantidad de MEMORIA que usamos para esta sección ! &nbsp; &nbsp; </span>"
   ]
  },
  {
   "cell_type": "code",
   "execution_count": 2,
   "metadata": {
    "collapsed": false
   },
   "outputs": [
    {
     "name": "stderr",
     "output_type": "stream",
     "text": [
      "\n",
      "Attaching package: ‘SparkR’\n",
      "\n",
      "The following objects are masked from ‘package:stats’:\n",
      "\n",
      "    cov, filter, lag, na.omit, predict, sd, var, window\n",
      "\n",
      "The following objects are masked from ‘package:base’:\n",
      "\n",
      "    as.data.frame, colnames, colnames<-, drop, endsWith, intersect,\n",
      "    rank, rbind, sample, startsWith, subset, summary, transform, union\n",
      "\n",
      "Spark package found in SPARK_HOME: /usr/local/spark/\n"
     ]
    },
    {
     "name": "stdout",
     "output_type": "stream",
     "text": [
      "Launching java with spark-submit command /usr/local/spark//bin/spark-submit   --driver-memory \"1g\" sparkr-shell /tmp/RtmpTN6Bd7/backend_portaf810f87661 \n"
     ]
    },
    {
     "data": {
      "text/plain": [
       "Java ref type org.apache.spark.sql.SparkSession id 1 "
      ]
     },
     "metadata": {},
     "output_type": "display_data"
    }
   ],
   "source": [
    ".libPaths(c(file.path(Sys.getenv(\"SPARK_HOME\"),\"R/lib/\"),.libPaths()))\n",
    "library(SparkR)\n",
    "sparkR.session(appName=\"EntornoInicio\", master = \"local[*]\", sparkConfig = list(spark.driver.memory = \"1g\"))"
   ]
  },
  {
   "cell_type": "markdown",
   "metadata": {},
   "source": [
    "Los ``SparkDataFrames`` soportan un alto número de funciones para hacer un procesado de datos estructurado. \n",
    "\n",
    "Vamos a poner en práctica las más utilizadas. La lista completa de operaciones que se pueden aplicar se puede ver desde API de SparkR en https://spark.apache.org/docs/latest/api/R/index.html\n",
    "\n",
    "![funcSparkR](https://sites.google.com/site/manuparra/home/functionSparkR.jpg)\n"
   ]
  },
  {
   "cell_type": "markdown",
   "metadata": {},
   "source": [
    "# Operaciones con SparkDataFrames"
   ]
  },
  {
   "cell_type": "markdown",
   "metadata": {},
   "source": [
    "Cargamos un conjunto de datos masivo desde el repositirio de datasets.\n",
    "\n",
    "\n",
    "Podemos verlos desde: http://localhost:25980/tree\n",
    "\n",
    "\n",
    "El dataset que vamos a usar para el procesamiento de dato masivos, corresponde con un conjunto de datos de los registros de viaje en *TAXI*, donde se capturan las fechas y horas de recogida y devolución de pasajeros, lugares de recogida y entrega (coordenadas), distancias de viaje, tarifas detalladas, tipos de tarifas, tipos de pago y conteos de pasajeros que van en el taxi.  \n",
    "\n",
    "El dataset tiene **MUCHAS** posibilidades de procesamiento y también extracción de conocimiento.\n",
    "\n",
    "Estos conjuntos de datos adjuntos fueron recopilados y proporcionados por la Comisión de Taxisde Nueva York (TLC) http://www.nyc.gov/html/tlc/html/about/trip_record_data.shtml.\n",
    "\n",
    "\n",
    "![Alt](http://www.nyc.gov/html/tlc/images/features/fi_about_photo_trip_records.png)\n",
    "\n",
    "\n",
    "\n",
    "**Características del conjunto de datos original:**\n",
    "\n",
    "- El conjunto de datos NYCTaxiTrips en total tiene sobre **267GB**, que pueden ser manejados sin problema por SparkR (en un cluster real, no sobre una máquina virtual sencilla). \n",
    "- En total contiene 1100 millones de registros.\n",
    "- Más información de como se gestionan 1100 millones de instancias en la siguiente web y se soluciona este problema  problema real: http://toddwschneider.com/posts/analyzing-1-1-billion-nyc-taxi-and-uber-trips-with-a-vengeance/\n",
    "\n",
    "\n",
    "Más datasets masivos de NYCTaxiTrips en:  http://www.nyc.gov/html/tlc/html/about/trip_record_data.shtml\n"
   ]
  },
  {
   "cell_type": "markdown",
   "metadata": {},
   "source": [
    "Primero revisamos los distintos dataset que se han preparado en: http://localhost:25980/tree/datasets\n",
    "\n",
    "* yellow_tripdata_2016-01.csv\n",
    "* yellow_tripdata_2016-02_small1.csv\n",
    "* yellow_tripdata_2016-02_small2.csv\n",
    "* yellow_tripdata_2016-02_small3.csv"
   ]
  },
  {
   "cell_type": "code",
   "execution_count": 3,
   "metadata": {
    "collapsed": false
   },
   "outputs": [],
   "source": [
    "# Cargamos una versión reducida de los datos en CSV\n",
    "df_nyctrips <- read.df(\"/root/TallerSparkR/datasets/yellow_tripdata_2016-02_small3.csv\", \"csv\", header = \"true\", inferSchema = \"true\")"
   ]
  },
  {
   "cell_type": "markdown",
   "metadata": {},
   "source": [
    "Estudiamos de manera superficial el dataset"
   ]
  },
  {
   "cell_type": "code",
   "execution_count": 4,
   "metadata": {
    "collapsed": false
   },
   "outputs": [
    {
     "name": "stdout",
     "output_type": "stream",
     "text": [
      "root\n",
      " |-- VendorID: integer (nullable = true)\n",
      " |-- tpep_pickup_datetime: timestamp (nullable = true)\n",
      " |-- tpep_dropoff_datetime: timestamp (nullable = true)\n",
      " |-- passenger_count: integer (nullable = true)\n",
      " |-- trip_distance: double (nullable = true)\n",
      " |-- pickup_longitude: double (nullable = true)\n",
      " |-- pickup_latitude: double (nullable = true)\n",
      " |-- RatecodeID: integer (nullable = true)\n",
      " |-- store_and_fwd_flag: string (nullable = true)\n",
      " |-- dropoff_longitude: double (nullable = true)\n",
      " |-- dropoff_latitude: double (nullable = true)\n",
      " |-- payment_type: integer (nullable = true)\n",
      " |-- fare_amount: double (nullable = true)\n",
      " |-- extra: double (nullable = true)\n",
      " |-- mta_tax: double (nullable = true)\n",
      " |-- tip_amount: double (nullable = true)\n",
      " |-- tolls_amount: double (nullable = true)\n",
      " |-- improvement_surcharge: double (nullable = true)\n",
      " |-- total_amount: double (nullable = true)\n"
     ]
    },
    {
     "data": {
      "text/html": [
       "<table>\n",
       "<thead><tr><th scope=col>VendorID</th><th scope=col>tpep_pickup_datetime</th><th scope=col>tpep_dropoff_datetime</th><th scope=col>passenger_count</th><th scope=col>trip_distance</th><th scope=col>pickup_longitude</th><th scope=col>pickup_latitude</th><th scope=col>RatecodeID</th><th scope=col>store_and_fwd_flag</th><th scope=col>dropoff_longitude</th><th scope=col>dropoff_latitude</th><th scope=col>payment_type</th><th scope=col>fare_amount</th><th scope=col>extra</th><th scope=col>mta_tax</th><th scope=col>tip_amount</th><th scope=col>tolls_amount</th><th scope=col>improvement_surcharge</th><th scope=col>total_amount</th></tr></thead>\n",
       "<tbody>\n",
       "\t<tr><td>2                  </td><td>2016-02-25 17:24:20</td><td>2016-02-25 17:27:20</td><td>2                  </td><td>0.70               </td><td>-73.94725          </td><td>40.76377           </td><td>1                  </td><td>N                  </td><td>-73.99201          </td><td>40.73539           </td><td>2                  </td><td> 5.0               </td><td>0.0                </td><td>0.5                </td><td>0.0                </td><td>0                  </td><td>0.3                </td><td> 5.8               </td></tr>\n",
       "\t<tr><td>2                  </td><td>2016-02-25 23:10:50</td><td>2016-02-25 23:31:50</td><td>2                  </td><td>5.52               </td><td>-73.98302          </td><td>40.75099           </td><td>1                  </td><td>N                  </td><td>-73.98859          </td><td>40.75884           </td><td>2                  </td><td>20.0               </td><td>0.5                </td><td>0.5                </td><td>0.0                </td><td>0                  </td><td>0.3                </td><td>21.3               </td></tr>\n",
       "\t<tr><td>2                  </td><td>2016-02-01 00:00:01</td><td>2016-02-01 00:10:52</td><td>6                  </td><td>1.99               </td><td>-73.99234          </td><td>40.75820           </td><td>1                  </td><td>N                  </td><td>-73.96436          </td><td>40.75798           </td><td>1                  </td><td> 9.5               </td><td>0.5                </td><td>0.5                </td><td>0.7                </td><td>0                  </td><td>0.3                </td><td>11.5               </td></tr>\n",
       "\t<tr><td>1                  </td><td>2016-02-01 00:00:04</td><td>2016-02-01 00:05:16</td><td>1                  </td><td>1.50               </td><td>-73.98145          </td><td>40.74972           </td><td>1                  </td><td>N                  </td><td>-73.98232          </td><td>40.76398           </td><td>2                  </td><td> 6.5               </td><td>0.5                </td><td>0.5                </td><td>0.0                </td><td>0                  </td><td>0.3                </td><td> 7.8               </td></tr>\n",
       "\t<tr><td>2                  </td><td>2016-02-01 00:00:05</td><td>2016-02-01 00:20:59</td><td>1                  </td><td>5.60               </td><td>-74.00060          </td><td>40.72976           </td><td>1                  </td><td>N                  </td><td>-73.95132          </td><td>40.66983           </td><td>1                  </td><td>20.0               </td><td>0.5                </td><td>0.5                </td><td>4.0                </td><td>0                  </td><td>0.3                </td><td>25.3               </td></tr>\n",
       "\t<tr><td>2                  </td><td>2016-02-01 00:00:06</td><td>2016-02-01 00:15:01</td><td>1                  </td><td>4.69               </td><td>-74.00510          </td><td>40.71901           </td><td>1                  </td><td>N                  </td><td>-73.94709          </td><td>40.68888           </td><td>2                  </td><td>16.0               </td><td>0.5                </td><td>0.5                </td><td>0.0                </td><td>0                  </td><td>0.3                </td><td>17.3               </td></tr>\n",
       "</tbody>\n",
       "</table>\n"
      ],
      "text/latex": [
       "\\begin{tabular}{r|lllllllllllllllllll}\n",
       " VendorID & tpep\\_pickup\\_datetime & tpep\\_dropoff\\_datetime & passenger\\_count & trip\\_distance & pickup\\_longitude & pickup\\_latitude & RatecodeID & store\\_and\\_fwd\\_flag & dropoff\\_longitude & dropoff\\_latitude & payment\\_type & fare\\_amount & extra & mta\\_tax & tip\\_amount & tolls\\_amount & improvement\\_surcharge & total\\_amount\\\\\n",
       "\\hline\n",
       "\t 2                   & 2016-02-25 17:24:20 & 2016-02-25 17:27:20 & 2                   & 0.70                & -73.94725           & 40.76377            & 1                   & N                   & -73.99201           & 40.73539            & 2                   &  5.0                & 0.0                 & 0.5                 & 0.0                 & 0                   & 0.3                 &  5.8               \\\\\n",
       "\t 2                   & 2016-02-25 23:10:50 & 2016-02-25 23:31:50 & 2                   & 5.52                & -73.98302           & 40.75099            & 1                   & N                   & -73.98859           & 40.75884            & 2                   & 20.0                & 0.5                 & 0.5                 & 0.0                 & 0                   & 0.3                 & 21.3               \\\\\n",
       "\t 2                   & 2016-02-01 00:00:01 & 2016-02-01 00:10:52 & 6                   & 1.99                & -73.99234           & 40.75820            & 1                   & N                   & -73.96436           & 40.75798            & 1                   &  9.5                & 0.5                 & 0.5                 & 0.7                 & 0                   & 0.3                 & 11.5               \\\\\n",
       "\t 1                   & 2016-02-01 00:00:04 & 2016-02-01 00:05:16 & 1                   & 1.50                & -73.98145           & 40.74972            & 1                   & N                   & -73.98232           & 40.76398            & 2                   &  6.5                & 0.5                 & 0.5                 & 0.0                 & 0                   & 0.3                 &  7.8               \\\\\n",
       "\t 2                   & 2016-02-01 00:00:05 & 2016-02-01 00:20:59 & 1                   & 5.60                & -74.00060           & 40.72976            & 1                   & N                   & -73.95132           & 40.66983            & 1                   & 20.0                & 0.5                 & 0.5                 & 4.0                 & 0                   & 0.3                 & 25.3               \\\\\n",
       "\t 2                   & 2016-02-01 00:00:06 & 2016-02-01 00:15:01 & 1                   & 4.69                & -74.00510           & 40.71901            & 1                   & N                   & -73.94709           & 40.68888            & 2                   & 16.0                & 0.5                 & 0.5                 & 0.0                 & 0                   & 0.3                 & 17.3               \\\\\n",
       "\\end{tabular}\n"
      ],
      "text/plain": [
       "  VendorID tpep_pickup_datetime tpep_dropoff_datetime passenger_count\n",
       "1 2        2016-02-25 17:24:20  2016-02-25 17:27:20   2              \n",
       "2 2        2016-02-25 23:10:50  2016-02-25 23:31:50   2              \n",
       "3 2        2016-02-01 00:00:01  2016-02-01 00:10:52   6              \n",
       "4 1        2016-02-01 00:00:04  2016-02-01 00:05:16   1              \n",
       "5 2        2016-02-01 00:00:05  2016-02-01 00:20:59   1              \n",
       "6 2        2016-02-01 00:00:06  2016-02-01 00:15:01   1              \n",
       "  trip_distance pickup_longitude pickup_latitude RatecodeID store_and_fwd_flag\n",
       "1 0.70          -73.94725        40.76377        1          N                 \n",
       "2 5.52          -73.98302        40.75099        1          N                 \n",
       "3 1.99          -73.99234        40.75820        1          N                 \n",
       "4 1.50          -73.98145        40.74972        1          N                 \n",
       "5 5.60          -74.00060        40.72976        1          N                 \n",
       "6 4.69          -74.00510        40.71901        1          N                 \n",
       "  dropoff_longitude dropoff_latitude payment_type fare_amount extra mta_tax\n",
       "1 -73.99201         40.73539         2             5.0        0.0   0.5    \n",
       "2 -73.98859         40.75884         2            20.0        0.5   0.5    \n",
       "3 -73.96436         40.75798         1             9.5        0.5   0.5    \n",
       "4 -73.98232         40.76398         2             6.5        0.5   0.5    \n",
       "5 -73.95132         40.66983         1            20.0        0.5   0.5    \n",
       "6 -73.94709         40.68888         2            16.0        0.5   0.5    \n",
       "  tip_amount tolls_amount improvement_surcharge total_amount\n",
       "1 0.0        0            0.3                    5.8        \n",
       "2 0.0        0            0.3                   21.3        \n",
       "3 0.7        0            0.3                   11.5        \n",
       "4 0.0        0            0.3                    7.8        \n",
       "5 4.0        0            0.3                   25.3        \n",
       "6 0.0        0            0.3                   17.3        "
      ]
     },
     "metadata": {},
     "output_type": "display_data"
    },
    {
     "data": {
      "text/html": [
       "249"
      ],
      "text/latex": [
       "249"
      ],
      "text/markdown": [
       "249"
      ],
      "text/plain": [
       "[1] 249"
      ]
     },
     "metadata": {},
     "output_type": "display_data"
    }
   ],
   "source": [
    "# Comprobamos los campos del dataset\n",
    "printSchema(df_nyctrips)\n",
    "\n",
    "# Comprobamos como son los datos:\n",
    "head(df_nyctrips)\n",
    "\n",
    "# Contamos el total del registros:\n",
    "count(df_nyctrips)"
   ]
  },
  {
   "cell_type": "markdown",
   "metadata": {},
   "source": [
    "## Selección de instancias y columnas"
   ]
  },
  {
   "cell_type": "markdown",
   "metadata": {},
   "source": [
    "Para la selección de columnas y filas, usamos ``select`` y ``filter``. \n",
    "\n",
    "Todas las operaciones se pueden combinar para producir un nuevo dataset o ``SparkDataFrame``. **Son equivalentes a usar SPARKSQL **.\n",
    "\n",
    "Estas operaciones son esenciales si queremos transformar el dataset en otra versión preprocesada del mismo."
   ]
  },
  {
   "cell_type": "code",
   "execution_count": 5,
   "metadata": {
    "collapsed": false
   },
   "outputs": [
    {
     "data": {
      "text/html": [
       "<table>\n",
       "<thead><tr><th scope=col>pickup_longitude</th></tr></thead>\n",
       "<tbody>\n",
       "\t<tr><td>-73.94725</td></tr>\n",
       "\t<tr><td>-73.98302</td></tr>\n",
       "\t<tr><td>-73.99234</td></tr>\n",
       "\t<tr><td>-73.98145</td></tr>\n",
       "\t<tr><td>-74.00060</td></tr>\n",
       "\t<tr><td>-74.00510</td></tr>\n",
       "</tbody>\n",
       "</table>\n"
      ],
      "text/latex": [
       "\\begin{tabular}{r|l}\n",
       " pickup\\_longitude\\\\\n",
       "\\hline\n",
       "\t -73.94725\\\\\n",
       "\t -73.98302\\\\\n",
       "\t -73.99234\\\\\n",
       "\t -73.98145\\\\\n",
       "\t -74.00060\\\\\n",
       "\t -74.00510\\\\\n",
       "\\end{tabular}\n"
      ],
      "text/plain": [
       "  pickup_longitude\n",
       "1 -73.94725       \n",
       "2 -73.98302       \n",
       "3 -73.99234       \n",
       "4 -73.98145       \n",
       "5 -74.00060       \n",
       "6 -74.00510       "
      ]
     },
     "metadata": {},
     "output_type": "display_data"
    }
   ],
   "source": [
    "# Seleccionamos sólo la columna longitud, por el id de la columna\n",
    "# Por ID de columna \n",
    "head(select(df_nyctrips,df_nyctrips$pickup_longitude))"
   ]
  },
  {
   "cell_type": "code",
   "execution_count": 6,
   "metadata": {
    "collapsed": false
   },
   "outputs": [
    {
     "data": {
      "text/html": [
       "<table>\n",
       "<thead><tr><th scope=col>pickup_longitude</th></tr></thead>\n",
       "<tbody>\n",
       "\t<tr><td>-73.94725</td></tr>\n",
       "\t<tr><td>-73.98302</td></tr>\n",
       "\t<tr><td>-73.99234</td></tr>\n",
       "\t<tr><td>-73.98145</td></tr>\n",
       "\t<tr><td>-74.00060</td></tr>\n",
       "\t<tr><td>-74.00510</td></tr>\n",
       "</tbody>\n",
       "</table>\n"
      ],
      "text/latex": [
       "\\begin{tabular}{r|l}\n",
       " pickup\\_longitude\\\\\n",
       "\\hline\n",
       "\t -73.94725\\\\\n",
       "\t -73.98302\\\\\n",
       "\t -73.99234\\\\\n",
       "\t -73.98145\\\\\n",
       "\t -74.00060\\\\\n",
       "\t -74.00510\\\\\n",
       "\\end{tabular}\n"
      ],
      "text/plain": [
       "  pickup_longitude\n",
       "1 -73.94725       \n",
       "2 -73.98302       \n",
       "3 -73.99234       \n",
       "4 -73.98145       \n",
       "5 -74.00060       \n",
       "6 -74.00510       "
      ]
     },
     "metadata": {},
     "output_type": "display_data"
    }
   ],
   "source": [
    "# Seleccionamos sólo la columna longitud, por el nombre de la columna.\n",
    "# Por nombre de columna del dataset\n",
    "head(select(df_nyctrips,\"pickup_longitude\"))"
   ]
  },
  {
   "cell_type": "markdown",
   "metadata": {},
   "source": [
    "Para aplicar filtros de para las filas usamos ``filter`` que admite expresiones con operadores condicionales: \n",
    "\n",
    "```\n",
    "    < = > ! & | ...\n",
    "```"
   ]
  },
  {
   "cell_type": "code",
   "execution_count": null,
   "metadata": {
    "collapsed": false
   },
   "outputs": [],
   "source": [
    "# Aplicamos un filtro para ver los viajes aquellos viajes de taxi de más de 10 millas.\n",
    "head(filter(df_nyctrips, df_nyctrips$trip_distance > 10 & df_nyctrips$total_amount> 20 ))"
   ]
  },
  {
   "cell_type": "code",
   "execution_count": null,
   "metadata": {
    "collapsed": false
   },
   "outputs": [],
   "source": [
    "# Aplicamos un filtro para ver los viajes aquellos viajes de taxi de más de 10 millas y el importe mayor de $ 20\n",
    "head(filter(df_nyctrips, df_nyctrips$trip_distance > 10 & df_nyctrips$total_amount> 20 ))"
   ]
  },
  {
   "cell_type": "code",
   "execution_count": 22,
   "metadata": {
    "collapsed": false
   },
   "outputs": [
    {
     "data": {
      "text/html": [
       "<table>\n",
       "<thead><tr><th scope=col>max</th></tr></thead>\n",
       "<tbody>\n",
       "\t<tr><td>70.01</td></tr>\n",
       "</tbody>\n",
       "</table>\n"
      ],
      "text/latex": [
       "\\begin{tabular}{r|l}\n",
       " max\\\\\n",
       "\\hline\n",
       "\t 70.01\\\\\n",
       "\\end{tabular}\n"
      ],
      "text/plain": [
       "  max  \n",
       "1 70.01"
      ]
     },
     "metadata": {},
     "output_type": "display_data"
    }
   ],
   "source": [
    "# Aplicamos un filtro para ver el viaje más caro en Taxi que se ha hecho:\n",
    "head( agg(df_nyctrips ,max = max(df_nyctrips$total_amount)))"
   ]
  },
  {
   "cell_type": "code",
   "execution_count": 17,
   "metadata": {
    "collapsed": false
   },
   "outputs": [
    {
     "data": {
      "text/html": [
       "<table>\n",
       "<thead><tr><th scope=col>min</th></tr></thead>\n",
       "<tbody>\n",
       "\t<tr><td>3.8</td></tr>\n",
       "</tbody>\n",
       "</table>\n"
      ],
      "text/latex": [
       "\\begin{tabular}{r|l}\n",
       " min\\\\\n",
       "\\hline\n",
       "\t 3.8\\\\\n",
       "\\end{tabular}\n"
      ],
      "text/plain": [
       "  min\n",
       "1 3.8"
      ]
     },
     "metadata": {},
     "output_type": "display_data"
    }
   ],
   "source": [
    "# Aplicamos un filtro para ver el viaje menos caro en Taxi que se ha hecho:\n",
    "head(agg(df_nyctrips, min = min(df_nyctrips$total_amount)))"
   ]
  },
  {
   "cell_type": "markdown",
   "metadata": {},
   "source": [
    "## Uso de Agrupamiento y Agregación"
   ]
  },
  {
   "cell_type": "markdown",
   "metadata": {},
   "source": [
    "Los SparkDataFrames soportan funciones de agregado despues de agrupar. \n",
    "\n",
    "Por ejemplo podemos:"
   ]
  },
  {
   "cell_type": "code",
   "execution_count": 38,
   "metadata": {
    "collapsed": false
   },
   "outputs": [
    {
     "data": {
      "text/html": [
       "<table>\n",
       "<thead><tr><th scope=col>VendorID</th><th scope=col>count</th></tr></thead>\n",
       "<tbody>\n",
       "\t<tr><td>1  </td><td>100</td></tr>\n",
       "\t<tr><td>2  </td><td>149</td></tr>\n",
       "</tbody>\n",
       "</table>\n"
      ],
      "text/latex": [
       "\\begin{tabular}{r|ll}\n",
       " VendorID & count\\\\\n",
       "\\hline\n",
       "\t 1   & 100\\\\\n",
       "\t 2   & 149\\\\\n",
       "\\end{tabular}\n"
      ],
      "text/plain": [
       "  VendorID count\n",
       "1 1        100  \n",
       "2 2        149  "
      ]
     },
     "metadata": {},
     "output_type": "display_data"
    }
   ],
   "source": [
    "# Agrupamos por Vendedor y mostramos el número de viajes.\n",
    "head(summarize(groupBy(df_nyctrips, df_nyctrips$VendorID), count = n(df_nyctrips$VendorID)))"
   ]
  },
  {
   "cell_type": "code",
   "execution_count": 52,
   "metadata": {
    "collapsed": false
   },
   "outputs": [
    {
     "data": {
      "text/html": [
       "<table>\n",
       "<thead><tr><th scope=col>VendorID</th><th scope=col>max</th></tr></thead>\n",
       "<tbody>\n",
       "\t<tr><td>1    </td><td>63.50</td></tr>\n",
       "\t<tr><td>2    </td><td>70.01</td></tr>\n",
       "</tbody>\n",
       "</table>\n"
      ],
      "text/latex": [
       "\\begin{tabular}{r|ll}\n",
       " VendorID & max\\\\\n",
       "\\hline\n",
       "\t 1     & 63.50\\\\\n",
       "\t 2     & 70.01\\\\\n",
       "\\end{tabular}\n"
      ],
      "text/plain": [
       "  VendorID max  \n",
       "1 1        63.50\n",
       "2 2        70.01"
      ]
     },
     "metadata": {},
     "output_type": "display_data"
    }
   ],
   "source": [
    "# Agrupamos por Vendedor y mostramos el número de viajes.\n",
    "head(summarize(groupBy(df_nyctrips, df_nyctrips$VendorID), max = max(df_nyctrips$total_amount)))"
   ]
  },
  {
   "cell_type": "code",
   "execution_count": 46,
   "metadata": {
    "collapsed": false
   },
   "outputs": [],
   "source": [
    "# Agrupamos por numero de pasajeros y mostramos el numero de viajes\n",
    "trips_passenger <- summarize(groupBy(df_nyctrips, df_nyctrips$passenger_count), count = n(df_nyctrips$passenger_count))"
   ]
  },
  {
   "cell_type": "code",
   "execution_count": 47,
   "metadata": {
    "collapsed": false
   },
   "outputs": [],
   "source": [
    "# Cuidado con el COLLECT !\n",
    "trips_df <- head(collect(trips_passenger))"
   ]
  },
  {
   "cell_type": "code",
   "execution_count": 48,
   "metadata": {
    "collapsed": false
   },
   "outputs": [
    {
     "data": {
      "text/html": [
       "<table>\n",
       "<thead><tr><th scope=col>passenger_count</th><th scope=col>count</th></tr></thead>\n",
       "<tbody>\n",
       "\t<tr><td>1  </td><td>161</td></tr>\n",
       "\t<tr><td>6  </td><td> 15</td></tr>\n",
       "\t<tr><td>3  </td><td>  9</td></tr>\n",
       "\t<tr><td>5  </td><td> 16</td></tr>\n",
       "\t<tr><td>4  </td><td>  6</td></tr>\n",
       "\t<tr><td>2  </td><td> 42</td></tr>\n",
       "</tbody>\n",
       "</table>\n"
      ],
      "text/latex": [
       "\\begin{tabular}{r|ll}\n",
       " passenger\\_count & count\\\\\n",
       "\\hline\n",
       "\t 1   & 161\\\\\n",
       "\t 6   &  15\\\\\n",
       "\t 3   &   9\\\\\n",
       "\t 5   &  16\\\\\n",
       "\t 4   &   6\\\\\n",
       "\t 2   &  42\\\\\n",
       "\\end{tabular}\n"
      ],
      "text/plain": [
       "  passenger_count count\n",
       "1 1               161  \n",
       "2 6                15  \n",
       "3 3                 9  \n",
       "4 5                16  \n",
       "5 4                 6  \n",
       "6 2                42  "
      ]
     },
     "metadata": {},
     "output_type": "display_data"
    }
   ],
   "source": [
    "head(trips_df)"
   ]
  },
  {
   "cell_type": "markdown",
   "metadata": {},
   "source": [
    "## Operaciones con columnas\n",
    "\n",
    "Otras operaciones muy familiares en R, corresponden con la manipulación o transformación de valores en los registros de un dataset. En este caso la manipulación es muy sencilla:"
   ]
  },
  {
   "cell_type": "code",
   "execution_count": 53,
   "metadata": {
    "collapsed": false
   },
   "outputs": [],
   "source": [
    "# Convertimos la columna de millas a kilómetros, igual que en R.\n",
    "df_nyctrips$trip_distance <- df_nyctrips$trip_distance*1.6"
   ]
  },
  {
   "cell_type": "code",
   "execution_count": 54,
   "metadata": {
    "collapsed": false
   },
   "outputs": [
    {
     "data": {
      "text/html": [
       "<table>\n",
       "<thead><tr><th scope=col>VendorID</th><th scope=col>tpep_pickup_datetime</th><th scope=col>tpep_dropoff_datetime</th><th scope=col>passenger_count</th><th scope=col>trip_distance</th><th scope=col>pickup_longitude</th><th scope=col>pickup_latitude</th><th scope=col>RatecodeID</th><th scope=col>store_and_fwd_flag</th><th scope=col>dropoff_longitude</th><th scope=col>dropoff_latitude</th><th scope=col>payment_type</th><th scope=col>fare_amount</th><th scope=col>extra</th><th scope=col>mta_tax</th><th scope=col>tip_amount</th><th scope=col>tolls_amount</th><th scope=col>improvement_surcharge</th><th scope=col>total_amount</th></tr></thead>\n",
       "<tbody>\n",
       "\t<tr><td>2                  </td><td>2016-02-25 17:24:20</td><td>2016-02-25 17:27:20</td><td>2                  </td><td>1.120              </td><td>-73.94725          </td><td>40.76377           </td><td>1                  </td><td>N                  </td><td>-73.99201          </td><td>40.73539           </td><td>2                  </td><td> 5.0               </td><td>0.0                </td><td>0.5                </td><td>0.0                </td><td>0                  </td><td>0.3                </td><td> 5.8               </td></tr>\n",
       "\t<tr><td>2                  </td><td>2016-02-25 23:10:50</td><td>2016-02-25 23:31:50</td><td>2                  </td><td>8.832              </td><td>-73.98302          </td><td>40.75099           </td><td>1                  </td><td>N                  </td><td>-73.98859          </td><td>40.75884           </td><td>2                  </td><td>20.0               </td><td>0.5                </td><td>0.5                </td><td>0.0                </td><td>0                  </td><td>0.3                </td><td>21.3               </td></tr>\n",
       "\t<tr><td>2                  </td><td>2016-02-01 00:00:01</td><td>2016-02-01 00:10:52</td><td>6                  </td><td>3.184              </td><td>-73.99234          </td><td>40.75820           </td><td>1                  </td><td>N                  </td><td>-73.96436          </td><td>40.75798           </td><td>1                  </td><td> 9.5               </td><td>0.5                </td><td>0.5                </td><td>0.7                </td><td>0                  </td><td>0.3                </td><td>11.5               </td></tr>\n",
       "\t<tr><td>1                  </td><td>2016-02-01 00:00:04</td><td>2016-02-01 00:05:16</td><td>1                  </td><td>2.400              </td><td>-73.98145          </td><td>40.74972           </td><td>1                  </td><td>N                  </td><td>-73.98232          </td><td>40.76398           </td><td>2                  </td><td> 6.5               </td><td>0.5                </td><td>0.5                </td><td>0.0                </td><td>0                  </td><td>0.3                </td><td> 7.8               </td></tr>\n",
       "\t<tr><td>2                  </td><td>2016-02-01 00:00:05</td><td>2016-02-01 00:20:59</td><td>1                  </td><td>8.960              </td><td>-74.00060          </td><td>40.72976           </td><td>1                  </td><td>N                  </td><td>-73.95132          </td><td>40.66983           </td><td>1                  </td><td>20.0               </td><td>0.5                </td><td>0.5                </td><td>4.0                </td><td>0                  </td><td>0.3                </td><td>25.3               </td></tr>\n",
       "\t<tr><td>2                  </td><td>2016-02-01 00:00:06</td><td>2016-02-01 00:15:01</td><td>1                  </td><td>7.504              </td><td>-74.00510          </td><td>40.71901           </td><td>1                  </td><td>N                  </td><td>-73.94709          </td><td>40.68888           </td><td>2                  </td><td>16.0               </td><td>0.5                </td><td>0.5                </td><td>0.0                </td><td>0                  </td><td>0.3                </td><td>17.3               </td></tr>\n",
       "</tbody>\n",
       "</table>\n"
      ],
      "text/latex": [
       "\\begin{tabular}{r|lllllllllllllllllll}\n",
       " VendorID & tpep\\_pickup\\_datetime & tpep\\_dropoff\\_datetime & passenger\\_count & trip\\_distance & pickup\\_longitude & pickup\\_latitude & RatecodeID & store\\_and\\_fwd\\_flag & dropoff\\_longitude & dropoff\\_latitude & payment\\_type & fare\\_amount & extra & mta\\_tax & tip\\_amount & tolls\\_amount & improvement\\_surcharge & total\\_amount\\\\\n",
       "\\hline\n",
       "\t 2                   & 2016-02-25 17:24:20 & 2016-02-25 17:27:20 & 2                   & 1.120               & -73.94725           & 40.76377            & 1                   & N                   & -73.99201           & 40.73539            & 2                   &  5.0                & 0.0                 & 0.5                 & 0.0                 & 0                   & 0.3                 &  5.8               \\\\\n",
       "\t 2                   & 2016-02-25 23:10:50 & 2016-02-25 23:31:50 & 2                   & 8.832               & -73.98302           & 40.75099            & 1                   & N                   & -73.98859           & 40.75884            & 2                   & 20.0                & 0.5                 & 0.5                 & 0.0                 & 0                   & 0.3                 & 21.3               \\\\\n",
       "\t 2                   & 2016-02-01 00:00:01 & 2016-02-01 00:10:52 & 6                   & 3.184               & -73.99234           & 40.75820            & 1                   & N                   & -73.96436           & 40.75798            & 1                   &  9.5                & 0.5                 & 0.5                 & 0.7                 & 0                   & 0.3                 & 11.5               \\\\\n",
       "\t 1                   & 2016-02-01 00:00:04 & 2016-02-01 00:05:16 & 1                   & 2.400               & -73.98145           & 40.74972            & 1                   & N                   & -73.98232           & 40.76398            & 2                   &  6.5                & 0.5                 & 0.5                 & 0.0                 & 0                   & 0.3                 &  7.8               \\\\\n",
       "\t 2                   & 2016-02-01 00:00:05 & 2016-02-01 00:20:59 & 1                   & 8.960               & -74.00060           & 40.72976            & 1                   & N                   & -73.95132           & 40.66983            & 1                   & 20.0                & 0.5                 & 0.5                 & 4.0                 & 0                   & 0.3                 & 25.3               \\\\\n",
       "\t 2                   & 2016-02-01 00:00:06 & 2016-02-01 00:15:01 & 1                   & 7.504               & -74.00510           & 40.71901            & 1                   & N                   & -73.94709           & 40.68888            & 2                   & 16.0                & 0.5                 & 0.5                 & 0.0                 & 0                   & 0.3                 & 17.3               \\\\\n",
       "\\end{tabular}\n"
      ],
      "text/plain": [
       "  VendorID tpep_pickup_datetime tpep_dropoff_datetime passenger_count\n",
       "1 2        2016-02-25 17:24:20  2016-02-25 17:27:20   2              \n",
       "2 2        2016-02-25 23:10:50  2016-02-25 23:31:50   2              \n",
       "3 2        2016-02-01 00:00:01  2016-02-01 00:10:52   6              \n",
       "4 1        2016-02-01 00:00:04  2016-02-01 00:05:16   1              \n",
       "5 2        2016-02-01 00:00:05  2016-02-01 00:20:59   1              \n",
       "6 2        2016-02-01 00:00:06  2016-02-01 00:15:01   1              \n",
       "  trip_distance pickup_longitude pickup_latitude RatecodeID store_and_fwd_flag\n",
       "1 1.120         -73.94725        40.76377        1          N                 \n",
       "2 8.832         -73.98302        40.75099        1          N                 \n",
       "3 3.184         -73.99234        40.75820        1          N                 \n",
       "4 2.400         -73.98145        40.74972        1          N                 \n",
       "5 8.960         -74.00060        40.72976        1          N                 \n",
       "6 7.504         -74.00510        40.71901        1          N                 \n",
       "  dropoff_longitude dropoff_latitude payment_type fare_amount extra mta_tax\n",
       "1 -73.99201         40.73539         2             5.0        0.0   0.5    \n",
       "2 -73.98859         40.75884         2            20.0        0.5   0.5    \n",
       "3 -73.96436         40.75798         1             9.5        0.5   0.5    \n",
       "4 -73.98232         40.76398         2             6.5        0.5   0.5    \n",
       "5 -73.95132         40.66983         1            20.0        0.5   0.5    \n",
       "6 -73.94709         40.68888         2            16.0        0.5   0.5    \n",
       "  tip_amount tolls_amount improvement_surcharge total_amount\n",
       "1 0.0        0            0.3                    5.8        \n",
       "2 0.0        0            0.3                   21.3        \n",
       "3 0.7        0            0.3                   11.5        \n",
       "4 0.0        0            0.3                    7.8        \n",
       "5 4.0        0            0.3                   25.3        \n",
       "6 0.0        0            0.3                   17.3        "
      ]
     },
     "metadata": {},
     "output_type": "display_data"
    }
   ],
   "source": [
    "head(df_nyctrips)"
   ]
  },
  {
   "cell_type": "markdown",
   "metadata": {},
   "source": [
    "## Añadir columnas"
   ]
  },
  {
   "cell_type": "code",
   "execution_count": 57,
   "metadata": {
    "collapsed": false
   },
   "outputs": [
    {
     "data": {
      "text/html": [
       "<table>\n",
       "<thead><tr><th scope=col>VendorID</th><th scope=col>tpep_pickup_datetime</th><th scope=col>tpep_dropoff_datetime</th><th scope=col>passenger_count</th><th scope=col>trip_distance</th><th scope=col>pickup_longitude</th><th scope=col>pickup_latitude</th><th scope=col>RatecodeID</th><th scope=col>store_and_fwd_flag</th><th scope=col>dropoff_longitude</th><th scope=col>...</th><th scope=col>payment_type</th><th scope=col>fare_amount</th><th scope=col>extra</th><th scope=col>mta_tax</th><th scope=col>tip_amount</th><th scope=col>tolls_amount</th><th scope=col>improvement_surcharge</th><th scope=col>total_amount</th><th scope=col>uniform</th><th scope=col>normal</th></tr></thead>\n",
       "<tbody>\n",
       "\t<tr><td>2                  </td><td>2016-02-25 17:24:20</td><td>2016-02-25 17:27:20</td><td>2                  </td><td>1.120              </td><td>-73.94725          </td><td>40.76377           </td><td>1                  </td><td>N                  </td><td>-73.99201          </td><td>...                </td><td>2                  </td><td> 5.0               </td><td>0.0                </td><td>0.5                </td><td>0.0                </td><td>0                  </td><td>0.3                </td><td> 5.8               </td><td>0.41371265         </td><td> 0.5888539         </td></tr>\n",
       "\t<tr><td>2                  </td><td>2016-02-25 23:10:50</td><td>2016-02-25 23:31:50</td><td>2                  </td><td>8.832              </td><td>-73.98302          </td><td>40.75099           </td><td>1                  </td><td>N                  </td><td>-73.98859          </td><td>...                </td><td>2                  </td><td>20.0               </td><td>0.5                </td><td>0.5                </td><td>0.0                </td><td>0                  </td><td>0.3                </td><td>21.3               </td><td>0.73117193         </td><td> 0.8645537         </td></tr>\n",
       "\t<tr><td>2                  </td><td>2016-02-01 00:00:01</td><td>2016-02-01 00:10:52</td><td>6                  </td><td>3.184              </td><td>-73.99234          </td><td>40.75820           </td><td>1                  </td><td>N                  </td><td>-73.96436          </td><td>...                </td><td>1                  </td><td> 9.5               </td><td>0.5                </td><td>0.5                </td><td>0.7                </td><td>0                  </td><td>0.3                </td><td>11.5               </td><td>0.90317012         </td><td> 1.2524570         </td></tr>\n",
       "\t<tr><td>1                  </td><td>2016-02-01 00:00:04</td><td>2016-02-01 00:05:16</td><td>1                  </td><td>2.400              </td><td>-73.98145          </td><td>40.74972           </td><td>1                  </td><td>N                  </td><td>-73.98232          </td><td>...                </td><td>2                  </td><td> 6.5               </td><td>0.5                </td><td>0.5                </td><td>0.0                </td><td>0                  </td><td>0.3                </td><td> 7.8               </td><td>0.09430205         </td><td>-2.5736369         </td></tr>\n",
       "\t<tr><td>2                  </td><td>2016-02-01 00:00:05</td><td>2016-02-01 00:20:59</td><td>1                  </td><td>8.960              </td><td>-74.00060          </td><td>40.72976           </td><td>1                  </td><td>N                  </td><td>-73.95132          </td><td>...                </td><td>1                  </td><td>20.0               </td><td>0.5                </td><td>0.5                </td><td>4.0                </td><td>0                  </td><td>0.3                </td><td>25.3               </td><td>0.38340505         </td><td> 0.5469737         </td></tr>\n",
       "\t<tr><td>2                  </td><td>2016-02-01 00:00:06</td><td>2016-02-01 00:15:01</td><td>1                  </td><td>7.504              </td><td>-74.00510          </td><td>40.71901           </td><td>1                  </td><td>N                  </td><td>-73.94709          </td><td>...                </td><td>2                  </td><td>16.0               </td><td>0.5                </td><td>0.5                </td><td>0.0                </td><td>0                  </td><td>0.3                </td><td>17.3               </td><td>0.55692461         </td><td> 0.1743128         </td></tr>\n",
       "</tbody>\n",
       "</table>\n"
      ],
      "text/latex": [
       "\\begin{tabular}{r|lllllllllllllllllllll}\n",
       " VendorID & tpep\\_pickup\\_datetime & tpep\\_dropoff\\_datetime & passenger\\_count & trip\\_distance & pickup\\_longitude & pickup\\_latitude & RatecodeID & store\\_and\\_fwd\\_flag & dropoff\\_longitude & ... & payment\\_type & fare\\_amount & extra & mta\\_tax & tip\\_amount & tolls\\_amount & improvement\\_surcharge & total\\_amount & uniform & normal\\\\\n",
       "\\hline\n",
       "\t 2                   & 2016-02-25 17:24:20 & 2016-02-25 17:27:20 & 2                   & 1.120               & -73.94725           & 40.76377            & 1                   & N                   & -73.99201           & ...                 & 2                   &  5.0                & 0.0                 & 0.5                 & 0.0                 & 0                   & 0.3                 &  5.8                & 0.41371265          &  0.5888539         \\\\\n",
       "\t 2                   & 2016-02-25 23:10:50 & 2016-02-25 23:31:50 & 2                   & 8.832               & -73.98302           & 40.75099            & 1                   & N                   & -73.98859           & ...                 & 2                   & 20.0                & 0.5                 & 0.5                 & 0.0                 & 0                   & 0.3                 & 21.3                & 0.73117193          &  0.8645537         \\\\\n",
       "\t 2                   & 2016-02-01 00:00:01 & 2016-02-01 00:10:52 & 6                   & 3.184               & -73.99234           & 40.75820            & 1                   & N                   & -73.96436           & ...                 & 1                   &  9.5                & 0.5                 & 0.5                 & 0.7                 & 0                   & 0.3                 & 11.5                & 0.90317012          &  1.2524570         \\\\\n",
       "\t 1                   & 2016-02-01 00:00:04 & 2016-02-01 00:05:16 & 1                   & 2.400               & -73.98145           & 40.74972            & 1                   & N                   & -73.98232           & ...                 & 2                   &  6.5                & 0.5                 & 0.5                 & 0.0                 & 0                   & 0.3                 &  7.8                & 0.09430205          & -2.5736369         \\\\\n",
       "\t 2                   & 2016-02-01 00:00:05 & 2016-02-01 00:20:59 & 1                   & 8.960               & -74.00060           & 40.72976            & 1                   & N                   & -73.95132           & ...                 & 1                   & 20.0                & 0.5                 & 0.5                 & 4.0                 & 0                   & 0.3                 & 25.3                & 0.38340505          &  0.5469737         \\\\\n",
       "\t 2                   & 2016-02-01 00:00:06 & 2016-02-01 00:15:01 & 1                   & 7.504               & -74.00510           & 40.71901            & 1                   & N                   & -73.94709           & ...                 & 2                   & 16.0                & 0.5                 & 0.5                 & 0.0                 & 0                   & 0.3                 & 17.3                & 0.55692461          &  0.1743128         \\\\\n",
       "\\end{tabular}\n"
      ],
      "text/plain": [
       "  VendorID tpep_pickup_datetime tpep_dropoff_datetime passenger_count\n",
       "1 2        2016-02-25 17:24:20  2016-02-25 17:27:20   2              \n",
       "2 2        2016-02-25 23:10:50  2016-02-25 23:31:50   2              \n",
       "3 2        2016-02-01 00:00:01  2016-02-01 00:10:52   6              \n",
       "4 1        2016-02-01 00:00:04  2016-02-01 00:05:16   1              \n",
       "5 2        2016-02-01 00:00:05  2016-02-01 00:20:59   1              \n",
       "6 2        2016-02-01 00:00:06  2016-02-01 00:15:01   1              \n",
       "  trip_distance pickup_longitude pickup_latitude RatecodeID store_and_fwd_flag\n",
       "1 1.120         -73.94725        40.76377        1          N                 \n",
       "2 8.832         -73.98302        40.75099        1          N                 \n",
       "3 3.184         -73.99234        40.75820        1          N                 \n",
       "4 2.400         -73.98145        40.74972        1          N                 \n",
       "5 8.960         -74.00060        40.72976        1          N                 \n",
       "6 7.504         -74.00510        40.71901        1          N                 \n",
       "  dropoff_longitude ... payment_type fare_amount extra mta_tax tip_amount\n",
       "1 -73.99201         ... 2             5.0        0.0   0.5     0.0       \n",
       "2 -73.98859         ... 2            20.0        0.5   0.5     0.0       \n",
       "3 -73.96436         ... 1             9.5        0.5   0.5     0.7       \n",
       "4 -73.98232         ... 2             6.5        0.5   0.5     0.0       \n",
       "5 -73.95132         ... 1            20.0        0.5   0.5     4.0       \n",
       "6 -73.94709         ... 2            16.0        0.5   0.5     0.0       \n",
       "  tolls_amount improvement_surcharge total_amount uniform    normal    \n",
       "1 0            0.3                    5.8         0.41371265  0.5888539\n",
       "2 0            0.3                   21.3         0.73117193  0.8645537\n",
       "3 0            0.3                   11.5         0.90317012  1.2524570\n",
       "4 0            0.3                    7.8         0.09430205 -2.5736369\n",
       "5 0            0.3                   25.3         0.38340505  0.5469737\n",
       "6 0            0.3                   17.3         0.55692461  0.1743128"
      ]
     },
     "metadata": {},
     "output_type": "display_data"
    },
    {
     "data": {
      "text/html": [
       "<table>\n",
       "<thead><tr><th scope=col>VendorID</th><th scope=col>tpep_pickup_datetime</th><th scope=col>tpep_dropoff_datetime</th><th scope=col>passenger_count</th><th scope=col>trip_distance</th><th scope=col>pickup_longitude</th><th scope=col>pickup_latitude</th><th scope=col>RatecodeID</th><th scope=col>store_and_fwd_flag</th><th scope=col>dropoff_longitude</th><th scope=col>...</th><th scope=col>payment_type</th><th scope=col>fare_amount</th><th scope=col>extra</th><th scope=col>mta_tax</th><th scope=col>tip_amount</th><th scope=col>tolls_amount</th><th scope=col>improvement_surcharge</th><th scope=col>total_amount</th><th scope=col>uniform</th><th scope=col>normal</th></tr></thead>\n",
       "<tbody>\n",
       "\t<tr><td>2                  </td><td>2016-02-25 17:24:20</td><td>2016-02-25 17:27:20</td><td>2                  </td><td>1.120              </td><td>-73.94725          </td><td>40.76377           </td><td>1                  </td><td>N                  </td><td>-73.99201          </td><td>...                </td><td>2                  </td><td> 5.0               </td><td>0.0                </td><td>0.5                </td><td>0.0                </td><td>0                  </td><td>0.3                </td><td> 5.8               </td><td> 6.58590           </td><td> 0.5888539         </td></tr>\n",
       "\t<tr><td>2                  </td><td>2016-02-25 23:10:50</td><td>2016-02-25 23:31:50</td><td>2                  </td><td>8.832              </td><td>-73.98302          </td><td>40.75099           </td><td>1                  </td><td>N                  </td><td>-73.98859          </td><td>...                </td><td>2                  </td><td>20.0               </td><td>0.5                </td><td>0.5                </td><td>0.0                </td><td>0                  </td><td>0.3                </td><td>21.3               </td><td>24.18615           </td><td> 0.8645537         </td></tr>\n",
       "\t<tr><td>2                  </td><td>2016-02-01 00:00:01</td><td>2016-02-01 00:10:52</td><td>6                  </td><td>3.184              </td><td>-73.99234          </td><td>40.75820           </td><td>1                  </td><td>N                  </td><td>-73.96436          </td><td>...                </td><td>1                  </td><td> 9.5               </td><td>0.5                </td><td>0.5                </td><td>0.7                </td><td>0                  </td><td>0.3                </td><td>11.5               </td><td>13.05825           </td><td> 1.2524570         </td></tr>\n",
       "\t<tr><td>1                  </td><td>2016-02-01 00:00:04</td><td>2016-02-01 00:05:16</td><td>1                  </td><td>2.400              </td><td>-73.98145          </td><td>40.74972           </td><td>1                  </td><td>N                  </td><td>-73.98232          </td><td>...                </td><td>2                  </td><td> 6.5               </td><td>0.5                </td><td>0.5                </td><td>0.0                </td><td>0                  </td><td>0.3                </td><td> 7.8               </td><td> 8.85690           </td><td>-2.5736369         </td></tr>\n",
       "\t<tr><td>2                  </td><td>2016-02-01 00:00:05</td><td>2016-02-01 00:20:59</td><td>1                  </td><td>8.960              </td><td>-74.00060          </td><td>40.72976           </td><td>1                  </td><td>N                  </td><td>-73.95132          </td><td>...                </td><td>1                  </td><td>20.0               </td><td>0.5                </td><td>0.5                </td><td>4.0                </td><td>0                  </td><td>0.3                </td><td>25.3               </td><td>28.72815           </td><td> 0.5469737         </td></tr>\n",
       "\t<tr><td>2                  </td><td>2016-02-01 00:00:06</td><td>2016-02-01 00:15:01</td><td>1                  </td><td>7.504              </td><td>-74.00510          </td><td>40.71901           </td><td>1                  </td><td>N                  </td><td>-73.94709          </td><td>...                </td><td>2                  </td><td>16.0               </td><td>0.5                </td><td>0.5                </td><td>0.0                </td><td>0                  </td><td>0.3                </td><td>17.3               </td><td>19.64415           </td><td> 0.1743128         </td></tr>\n",
       "</tbody>\n",
       "</table>\n"
      ],
      "text/latex": [
       "\\begin{tabular}{r|lllllllllllllllllllll}\n",
       " VendorID & tpep\\_pickup\\_datetime & tpep\\_dropoff\\_datetime & passenger\\_count & trip\\_distance & pickup\\_longitude & pickup\\_latitude & RatecodeID & store\\_and\\_fwd\\_flag & dropoff\\_longitude & ... & payment\\_type & fare\\_amount & extra & mta\\_tax & tip\\_amount & tolls\\_amount & improvement\\_surcharge & total\\_amount & uniform & normal\\\\\n",
       "\\hline\n",
       "\t 2                   & 2016-02-25 17:24:20 & 2016-02-25 17:27:20 & 2                   & 1.120               & -73.94725           & 40.76377            & 1                   & N                   & -73.99201           & ...                 & 2                   &  5.0                & 0.0                 & 0.5                 & 0.0                 & 0                   & 0.3                 &  5.8                &  6.58590            &  0.5888539         \\\\\n",
       "\t 2                   & 2016-02-25 23:10:50 & 2016-02-25 23:31:50 & 2                   & 8.832               & -73.98302           & 40.75099            & 1                   & N                   & -73.98859           & ...                 & 2                   & 20.0                & 0.5                 & 0.5                 & 0.0                 & 0                   & 0.3                 & 21.3                & 24.18615            &  0.8645537         \\\\\n",
       "\t 2                   & 2016-02-01 00:00:01 & 2016-02-01 00:10:52 & 6                   & 3.184               & -73.99234           & 40.75820            & 1                   & N                   & -73.96436           & ...                 & 1                   &  9.5                & 0.5                 & 0.5                 & 0.7                 & 0                   & 0.3                 & 11.5                & 13.05825            &  1.2524570         \\\\\n",
       "\t 1                   & 2016-02-01 00:00:04 & 2016-02-01 00:05:16 & 1                   & 2.400               & -73.98145           & 40.74972            & 1                   & N                   & -73.98232           & ...                 & 2                   &  6.5                & 0.5                 & 0.5                 & 0.0                 & 0                   & 0.3                 &  7.8                &  8.85690            & -2.5736369         \\\\\n",
       "\t 2                   & 2016-02-01 00:00:05 & 2016-02-01 00:20:59 & 1                   & 8.960               & -74.00060           & 40.72976            & 1                   & N                   & -73.95132           & ...                 & 1                   & 20.0                & 0.5                 & 0.5                 & 4.0                 & 0                   & 0.3                 & 25.3                & 28.72815            &  0.5469737         \\\\\n",
       "\t 2                   & 2016-02-01 00:00:06 & 2016-02-01 00:15:01 & 1                   & 7.504               & -74.00510           & 40.71901            & 1                   & N                   & -73.94709           & ...                 & 2                   & 16.0                & 0.5                 & 0.5                 & 0.0                 & 0                   & 0.3                 & 17.3                & 19.64415            &  0.1743128         \\\\\n",
       "\\end{tabular}\n"
      ],
      "text/plain": [
       "  VendorID tpep_pickup_datetime tpep_dropoff_datetime passenger_count\n",
       "1 2        2016-02-25 17:24:20  2016-02-25 17:27:20   2              \n",
       "2 2        2016-02-25 23:10:50  2016-02-25 23:31:50   2              \n",
       "3 2        2016-02-01 00:00:01  2016-02-01 00:10:52   6              \n",
       "4 1        2016-02-01 00:00:04  2016-02-01 00:05:16   1              \n",
       "5 2        2016-02-01 00:00:05  2016-02-01 00:20:59   1              \n",
       "6 2        2016-02-01 00:00:06  2016-02-01 00:15:01   1              \n",
       "  trip_distance pickup_longitude pickup_latitude RatecodeID store_and_fwd_flag\n",
       "1 1.120         -73.94725        40.76377        1          N                 \n",
       "2 8.832         -73.98302        40.75099        1          N                 \n",
       "3 3.184         -73.99234        40.75820        1          N                 \n",
       "4 2.400         -73.98145        40.74972        1          N                 \n",
       "5 8.960         -74.00060        40.72976        1          N                 \n",
       "6 7.504         -74.00510        40.71901        1          N                 \n",
       "  dropoff_longitude ... payment_type fare_amount extra mta_tax tip_amount\n",
       "1 -73.99201         ... 2             5.0        0.0   0.5     0.0       \n",
       "2 -73.98859         ... 2            20.0        0.5   0.5     0.0       \n",
       "3 -73.96436         ... 1             9.5        0.5   0.5     0.7       \n",
       "4 -73.98232         ... 2             6.5        0.5   0.5     0.0       \n",
       "5 -73.95132         ... 1            20.0        0.5   0.5     4.0       \n",
       "6 -73.94709         ... 2            16.0        0.5   0.5     0.0       \n",
       "  tolls_amount improvement_surcharge total_amount uniform  normal    \n",
       "1 0            0.3                    5.8          6.58590  0.5888539\n",
       "2 0            0.3                   21.3         24.18615  0.8645537\n",
       "3 0            0.3                   11.5         13.05825  1.2524570\n",
       "4 0            0.3                    7.8          8.85690 -2.5736369\n",
       "5 0            0.3                   25.3         28.72815  0.5469737\n",
       "6 0            0.3                   17.3         19.64415  0.1743128"
      ]
     },
     "metadata": {},
     "output_type": "display_data"
    }
   ],
   "source": [
    "# Usamos mutate para añadir columnas que operan con elementos de las demás columnas.\n",
    "\n",
    "# mutate(sql_nyc,  uniform = rand(10),  normal  = randn(27))\n",
    "\n",
    "head(mutate(df_nyctrips,  uniform = rand(10),  normal  = randn(27)))\n",
    "head(mutate(df_nyctrips,  uniform =df_nyctrips$total_amount*1.1355,  normal  = randn(27)))"
   ]
  },
  {
   "cell_type": "code",
   "execution_count": 59,
   "metadata": {
    "collapsed": false
   },
   "outputs": [
    {
     "data": {
      "text/html": [
       "<table>\n",
       "<thead><tr><th scope=col>VendorID</th><th scope=col>tpep_pickup_datetime</th><th scope=col>tpep_dropoff_datetime</th><th scope=col>passenger_count</th><th scope=col>trip_distance</th><th scope=col>pickup_longitude</th><th scope=col>pickup_latitude</th><th scope=col>RatecodeID</th><th scope=col>store_and_fwd_flag</th><th scope=col>dropoff_longitude</th><th scope=col>dropoff_latitude</th><th scope=col>payment_type</th><th scope=col>fare_amount</th><th scope=col>extra</th><th scope=col>mta_tax</th><th scope=col>tip_amount</th><th scope=col>tolls_amount</th><th scope=col>improvement_surcharge</th><th scope=col>total_amount</th><th scope=col>uniform</th></tr></thead>\n",
       "<tbody>\n",
       "\t<tr><td>2                  </td><td>2016-02-25 17:24:20</td><td>2016-02-25 17:27:20</td><td>2                  </td><td>1.120              </td><td>-73.94725          </td><td>40.76377           </td><td>1                  </td><td>N                  </td><td>-73.99201          </td><td>40.73539           </td><td>2                  </td><td> 5.0               </td><td>0.0                </td><td>0.5                </td><td>0.0                </td><td>0                  </td><td>0.3                </td><td> 5.8               </td><td>0.6155304          </td></tr>\n",
       "\t<tr><td>2                  </td><td>2016-02-25 23:10:50</td><td>2016-02-25 23:31:50</td><td>2                  </td><td>8.832              </td><td>-73.98302          </td><td>40.75099           </td><td>1                  </td><td>N                  </td><td>-73.98859          </td><td>40.75884           </td><td>2                  </td><td>20.0               </td><td>0.5                </td><td>0.5                </td><td>0.0                </td><td>0                  </td><td>0.3                </td><td>21.3               </td><td>0.4156276          </td></tr>\n",
       "\t<tr><td>2                  </td><td>2016-02-01 00:00:01</td><td>2016-02-01 00:10:52</td><td>6                  </td><td>3.184              </td><td>-73.99234          </td><td>40.75820           </td><td>1                  </td><td>N                  </td><td>-73.96436          </td><td>40.75798           </td><td>1                  </td><td> 9.5               </td><td>0.5                </td><td>0.5                </td><td>0.7                </td><td>0                  </td><td>0.3                </td><td>11.5               </td><td>0.7346618          </td></tr>\n",
       "\t<tr><td>1                  </td><td>2016-02-01 00:00:04</td><td>2016-02-01 00:05:16</td><td>1                  </td><td>2.400              </td><td>-73.98145          </td><td>40.74972           </td><td>1                  </td><td>N                  </td><td>-73.98232          </td><td>40.76398           </td><td>2                  </td><td> 6.5               </td><td>0.5                </td><td>0.5                </td><td>0.0                </td><td>0                  </td><td>0.3                </td><td> 7.8               </td><td>0.9219126          </td></tr>\n",
       "\t<tr><td>2                  </td><td>2016-02-01 00:00:05</td><td>2016-02-01 00:20:59</td><td>1                  </td><td>8.960              </td><td>-74.00060          </td><td>40.72976           </td><td>1                  </td><td>N                  </td><td>-73.95132          </td><td>40.66983           </td><td>1                  </td><td>20.0               </td><td>0.5                </td><td>0.5                </td><td>4.0                </td><td>0                  </td><td>0.3                </td><td>25.3               </td><td>0.6942660          </td></tr>\n",
       "\t<tr><td>2                  </td><td>2016-02-01 00:00:06</td><td>2016-02-01 00:15:01</td><td>1                  </td><td>7.504              </td><td>-74.00510          </td><td>40.71901           </td><td>1                  </td><td>N                  </td><td>-73.94709          </td><td>40.68888           </td><td>2                  </td><td>16.0               </td><td>0.5                </td><td>0.5                </td><td>0.0                </td><td>0                  </td><td>0.3                </td><td>17.3               </td><td>0.2761286          </td></tr>\n",
       "</tbody>\n",
       "</table>\n"
      ],
      "text/latex": [
       "\\begin{tabular}{r|llllllllllllllllllll}\n",
       " VendorID & tpep\\_pickup\\_datetime & tpep\\_dropoff\\_datetime & passenger\\_count & trip\\_distance & pickup\\_longitude & pickup\\_latitude & RatecodeID & store\\_and\\_fwd\\_flag & dropoff\\_longitude & dropoff\\_latitude & payment\\_type & fare\\_amount & extra & mta\\_tax & tip\\_amount & tolls\\_amount & improvement\\_surcharge & total\\_amount & uniform\\\\\n",
       "\\hline\n",
       "\t 2                   & 2016-02-25 17:24:20 & 2016-02-25 17:27:20 & 2                   & 1.120               & -73.94725           & 40.76377            & 1                   & N                   & -73.99201           & 40.73539            & 2                   &  5.0                & 0.0                 & 0.5                 & 0.0                 & 0                   & 0.3                 &  5.8                & 0.6155304          \\\\\n",
       "\t 2                   & 2016-02-25 23:10:50 & 2016-02-25 23:31:50 & 2                   & 8.832               & -73.98302           & 40.75099            & 1                   & N                   & -73.98859           & 40.75884            & 2                   & 20.0                & 0.5                 & 0.5                 & 0.0                 & 0                   & 0.3                 & 21.3                & 0.4156276          \\\\\n",
       "\t 2                   & 2016-02-01 00:00:01 & 2016-02-01 00:10:52 & 6                   & 3.184               & -73.99234           & 40.75820            & 1                   & N                   & -73.96436           & 40.75798            & 1                   &  9.5                & 0.5                 & 0.5                 & 0.7                 & 0                   & 0.3                 & 11.5                & 0.7346618          \\\\\n",
       "\t 1                   & 2016-02-01 00:00:04 & 2016-02-01 00:05:16 & 1                   & 2.400               & -73.98145           & 40.74972            & 1                   & N                   & -73.98232           & 40.76398            & 2                   &  6.5                & 0.5                 & 0.5                 & 0.0                 & 0                   & 0.3                 &  7.8                & 0.9219126          \\\\\n",
       "\t 2                   & 2016-02-01 00:00:05 & 2016-02-01 00:20:59 & 1                   & 8.960               & -74.00060           & 40.72976            & 1                   & N                   & -73.95132           & 40.66983            & 1                   & 20.0                & 0.5                 & 0.5                 & 4.0                 & 0                   & 0.3                 & 25.3                & 0.6942660          \\\\\n",
       "\t 2                   & 2016-02-01 00:00:06 & 2016-02-01 00:15:01 & 1                   & 7.504               & -74.00510           & 40.71901            & 1                   & N                   & -73.94709           & 40.68888            & 2                   & 16.0                & 0.5                 & 0.5                 & 0.0                 & 0                   & 0.3                 & 17.3                & 0.2761286          \\\\\n",
       "\\end{tabular}\n"
      ],
      "text/plain": [
       "  VendorID tpep_pickup_datetime tpep_dropoff_datetime passenger_count\n",
       "1 2        2016-02-25 17:24:20  2016-02-25 17:27:20   2              \n",
       "2 2        2016-02-25 23:10:50  2016-02-25 23:31:50   2              \n",
       "3 2        2016-02-01 00:00:01  2016-02-01 00:10:52   6              \n",
       "4 1        2016-02-01 00:00:04  2016-02-01 00:05:16   1              \n",
       "5 2        2016-02-01 00:00:05  2016-02-01 00:20:59   1              \n",
       "6 2        2016-02-01 00:00:06  2016-02-01 00:15:01   1              \n",
       "  trip_distance pickup_longitude pickup_latitude RatecodeID store_and_fwd_flag\n",
       "1 1.120         -73.94725        40.76377        1          N                 \n",
       "2 8.832         -73.98302        40.75099        1          N                 \n",
       "3 3.184         -73.99234        40.75820        1          N                 \n",
       "4 2.400         -73.98145        40.74972        1          N                 \n",
       "5 8.960         -74.00060        40.72976        1          N                 \n",
       "6 7.504         -74.00510        40.71901        1          N                 \n",
       "  dropoff_longitude dropoff_latitude payment_type fare_amount extra mta_tax\n",
       "1 -73.99201         40.73539         2             5.0        0.0   0.5    \n",
       "2 -73.98859         40.75884         2            20.0        0.5   0.5    \n",
       "3 -73.96436         40.75798         1             9.5        0.5   0.5    \n",
       "4 -73.98232         40.76398         2             6.5        0.5   0.5    \n",
       "5 -73.95132         40.66983         1            20.0        0.5   0.5    \n",
       "6 -73.94709         40.68888         2            16.0        0.5   0.5    \n",
       "  tip_amount tolls_amount improvement_surcharge total_amount uniform  \n",
       "1 0.0        0            0.3                    5.8         0.6155304\n",
       "2 0.0        0            0.3                   21.3         0.4156276\n",
       "3 0.7        0            0.3                   11.5         0.7346618\n",
       "4 0.0        0            0.3                    7.8         0.9219126\n",
       "5 4.0        0            0.3                   25.3         0.6942660\n",
       "6 0.0        0            0.3                   17.3         0.2761286"
      ]
     },
     "metadata": {},
     "output_type": "display_data"
    }
   ],
   "source": [
    "# Otro modo de hacerlo es:\n",
    "\n",
    "head(withColumn(df_nyctrips,\"uniform\",rand(20)))"
   ]
  },
  {
   "cell_type": "markdown",
   "metadata": {},
   "source": [
    "### dapply -- dapplayCollect\n",
    "\n",
    "Aplicar una función a un conjunto datos masivo con ``dapply`` y ``dapplyCollect`` \n",
    "\n",
    "**dapply**\n",
    "\n",
    "Aplica una función a cada partición de un ``SparkDataFrame``. La función que será aplicada para cada partición y debería tener sólo un parámetro. La salida de la función deberá ser igualmente un data.frame. Además hay que especificar el ``schema`` del formato de los datos del ``SparkDataFrame`` resultante y deberá corresponder con tipo de datos del valor devuelto.\n",
    "\n"
   ]
  },
  {
   "cell_type": "code",
   "execution_count": 65,
   "metadata": {
    "collapsed": false
   },
   "outputs": [
    {
     "data": {
      "text/html": [
       "<table>\n",
       "<thead><tr><th scope=col>VendorID</th><th scope=col>trip_time</th><th scope=col>passenger_count</th><th scope=col>trip_distance</th><th scope=col>total_amount</th></tr></thead>\n",
       "<tbody>\n",
       "\t<tr><td>2    </td><td> 180 </td><td>2    </td><td>1.120</td><td> 5.8 </td></tr>\n",
       "\t<tr><td>2    </td><td>1260 </td><td>2    </td><td>8.832</td><td>21.3 </td></tr>\n",
       "\t<tr><td>2    </td><td> 651 </td><td>6    </td><td>3.184</td><td>11.5 </td></tr>\n",
       "\t<tr><td>1    </td><td> 312 </td><td>1    </td><td>2.400</td><td> 7.8 </td></tr>\n",
       "\t<tr><td>2    </td><td>1254 </td><td>1    </td><td>8.960</td><td>25.3 </td></tr>\n",
       "\t<tr><td>2    </td><td> 895 </td><td>1    </td><td>7.504</td><td>17.3 </td></tr>\n",
       "</tbody>\n",
       "</table>\n"
      ],
      "text/latex": [
       "\\begin{tabular}{r|lllll}\n",
       " VendorID & trip\\_time & passenger\\_count & trip\\_distance & total\\_amount\\\\\n",
       "\\hline\n",
       "\t 2     &  180  & 2     & 1.120 &  5.8 \\\\\n",
       "\t 2     & 1260  & 2     & 8.832 & 21.3 \\\\\n",
       "\t 2     &  651  & 6     & 3.184 & 11.5 \\\\\n",
       "\t 1     &  312  & 1     & 2.400 &  7.8 \\\\\n",
       "\t 2     & 1254  & 1     & 8.960 & 25.3 \\\\\n",
       "\t 2     &  895  & 1     & 7.504 & 17.3 \\\\\n",
       "\\end{tabular}\n"
      ],
      "text/plain": [
       "  VendorID trip_time passenger_count trip_distance total_amount\n",
       "1 2         180      2               1.120          5.8        \n",
       "2 2        1260      2               8.832         21.3        \n",
       "3 2         651      6               3.184         11.5        \n",
       "4 1         312      1               2.400          7.8        \n",
       "5 2        1254      1               8.960         25.3        \n",
       "6 2         895      1               7.504         17.3        "
      ]
     },
     "metadata": {},
     "output_type": "display_data"
    },
    {
     "data": {
      "text/plain": [
       "StructType\n",
       "|-name = \"VendorID\", type = \"IntegerType\", nullable = TRUE\n",
       "|-name = \"trip_time\", type = \"IntegerType\", nullable = TRUE\n",
       "|-name = \"passenger_count\", type = \"IntegerType\", nullable = TRUE\n",
       "|-name = \"trip_distance\", type = \"DoubleType\", nullable = TRUE\n",
       "|-name = \"total_amount\", type = \"DoubleType\", nullable = TRUE"
      ]
     },
     "metadata": {},
     "output_type": "display_data"
    },
    {
     "data": {
      "text/html": [
       "<table>\n",
       "<thead><tr><th scope=col>VendorID</th><th scope=col>trip_time</th><th scope=col>passenger_count</th><th scope=col>trip_distance</th><th scope=col>total_amount</th><th scope=col>total_amount_euro</th></tr></thead>\n",
       "<tbody>\n",
       "\t<tr><td>2       </td><td> 180    </td><td>2       </td><td>1.120   </td><td> 5.8    </td><td> 6.58590</td></tr>\n",
       "\t<tr><td>2       </td><td>1260    </td><td>2       </td><td>8.832   </td><td>21.3    </td><td>24.18615</td></tr>\n",
       "\t<tr><td>2       </td><td> 651    </td><td>6       </td><td>3.184   </td><td>11.5    </td><td>13.05825</td></tr>\n",
       "\t<tr><td>1       </td><td> 312    </td><td>1       </td><td>2.400   </td><td> 7.8    </td><td> 8.85690</td></tr>\n",
       "\t<tr><td>2       </td><td>1254    </td><td>1       </td><td>8.960   </td><td>25.3    </td><td>28.72815</td></tr>\n",
       "\t<tr><td>2       </td><td> 895    </td><td>1       </td><td>7.504   </td><td>17.3    </td><td>19.64415</td></tr>\n",
       "</tbody>\n",
       "</table>\n"
      ],
      "text/latex": [
       "\\begin{tabular}{r|llllll}\n",
       " VendorID & trip\\_time & passenger\\_count & trip\\_distance & total\\_amount & total\\_amount\\_euro\\\\\n",
       "\\hline\n",
       "\t 2        &  180     & 2        & 1.120    &  5.8     &  6.58590\\\\\n",
       "\t 2        & 1260     & 2        & 8.832    & 21.3     & 24.18615\\\\\n",
       "\t 2        &  651     & 6        & 3.184    & 11.5     & 13.05825\\\\\n",
       "\t 1        &  312     & 1        & 2.400    &  7.8     &  8.85690\\\\\n",
       "\t 2        & 1254     & 1        & 8.960    & 25.3     & 28.72815\\\\\n",
       "\t 2        &  895     & 1        & 7.504    & 17.3     & 19.64415\\\\\n",
       "\\end{tabular}\n"
      ],
      "text/plain": [
       "  VendorID trip_time passenger_count trip_distance total_amount\n",
       "1 2         180      2               1.120          5.8        \n",
       "2 2        1260      2               8.832         21.3        \n",
       "3 2         651      6               3.184         11.5        \n",
       "4 1         312      1               2.400          7.8        \n",
       "5 2        1254      1               8.960         25.3        \n",
       "6 2         895      1               7.504         17.3        \n",
       "  total_amount_euro\n",
       "1  6.58590         \n",
       "2 24.18615         \n",
       "3 13.05825         \n",
       "4  8.85690         \n",
       "5 28.72815         \n",
       "6 19.64415         "
      ]
     },
     "metadata": {},
     "output_type": "display_data"
    }
   ],
   "source": [
    "# Hacemos una copia del SparkDataFrame para usarla en una vista temporal en SQL\n",
    "createOrReplaceTempView(df_nyctrips,\"slqdf_filtered_nyc\")\n",
    "\n",
    "# Hacemos una selección de los registros, donde calculamos el tiempo del viaje de cada viaje\n",
    "sql_nyc <- sql(\"select VendorID,INT(unix_timestamp(tpep_dropoff_datetime)- unix_timestamp(tpep_pickup_datetime)) AS trip_time,passenger_count,trip_distance,total_amount from slqdf_filtered_nyc\")\n",
    "\n",
    "# Mostramos un trozo de SparkDataFrame\n",
    "head(sql_nyc)\n",
    "\n",
    "schema(sql_nyc)\n",
    "\n",
    "# Indicamos el Schema, que debe coincidir con lo que queremos\n",
    "schema <- structType(\n",
    "    structField(\"VendorID\", \"integer\"),\n",
    "    structField(\"trip_time\", \"integer\"), \n",
    "    structField(\"passenger_count\", \"integer\"),\n",
    "    structField(\"trip_distance\", \"double\"),\n",
    "    structField(\"total_amount\", \"double\"),\n",
    "    structField(\"total_amount_euro\", \"double\")\n",
    ")\n",
    "\n",
    "# Creamos la función que hará los cambios.\n",
    "new_sql_nyc <- dapply(\n",
    "    sql_nyc, \n",
    "    function(x) { \n",
    "        x <- cbind(x, x$total_amount*1.1355) \n",
    "    }, \n",
    "    schema)\n",
    "\n",
    "# Vemos el cambio\n",
    "head(new_sql_nyc)\n"
   ]
  },
  {
   "cell_type": "markdown",
   "metadata": {
    "collapsed": true
   },
   "source": [
    "### gapply -- gapplyCollect\n",
    "\n",
    "\n",
    "Aplica una función a cada uno de los grupos de un ``SparkDataFrame``. La función será aplicada a cada grupo del ``SparkDataFrame`` y debería tener sólo dos parámetros: agrupamiento por llave y data.frame al que corresponde esa llave. La salida de la función debería ser un data.frame. "
   ]
  },
  {
   "cell_type": "code",
   "execution_count": null,
   "metadata": {
    "collapsed": false
   },
   "outputs": [],
   "source": [
    "# Esquema del SparkDataFrame\n",
    "schema <- structType(\n",
    "    structField(\"VendorID\", \"integer\"),\n",
    "    structField(\"trip_time\", \"integer\"), \n",
    "    structField(\"passenger_count\", \"integer\"),\n",
    "    structField(\"trip_distance\", \"double\"),\n",
    "    structField(\"total_amount\", \"double\"),\n",
    "    structField(\"max_amount\", \"double\")\n",
    ")\n",
    "\n",
    "# Aplicamos la función gapply. Calculamos el máximo de cada Vendedor.\n",
    "result <- gapply(\n",
    "    sql_nyc,\n",
    "    \"VendorID\",\n",
    "    function(key, x) {\n",
    "        y <- data.frame(key, max(x$total_amount))\n",
    "    },\n",
    "    schema)\n",
    "\n",
    "# Mostramos el resultado.\n",
    "head(result[order(result$trip_distance, decreasing = TRUE), ])\n",
    "\n"
   ]
  },
  {
   "cell_type": "code",
   "execution_count": null,
   "metadata": {
    "collapsed": false
   },
   "outputs": [],
   "source": [
    "head(sql_nyc)\n",
    "\n",
    "# Ahora probamos el gapplycollect: \n",
    "# Como el gapply, aplica una funcion a cada partición y luego hace un collect del resultado en un data.frame en R.\n",
    "result <- gapplyCollect(\n",
    "            \n",
    "    sql_nyc,\n",
    "    \"VendorID\",\n",
    "    function(key, x) {\n",
    "        y <- data.frame(key, max(x$trip_distance))\n",
    "        colnames(y) <- c(\"VendorID\", \"max_trip_distance\")\n",
    "        y\n",
    "    })\n",
    "\n",
    "# Vemos el resultado.\n",
    "head(result[order(result$trip_distance, decreasing = TRUE), ])"
   ]
  },
  {
   "cell_type": "markdown",
   "metadata": {},
   "source": [
    "## Operando con SparkSQL sobre cojuntos masivos de datos."
   ]
  },
  {
   "cell_type": "markdown",
   "metadata": {},
   "source": [
    "Todas las funciones de manejo de datos que se han usado con SparkR, pueden hacerse de una forma sencilla e intuitiva  con SparkSQL"
   ]
  },
  {
   "cell_type": "code",
   "execution_count": 66,
   "metadata": {
    "collapsed": false
   },
   "outputs": [],
   "source": [
    "# sql_nyc es nuestro DataFrameSpark de SQL\n",
    "createOrReplaceTempView(sql_nyc,\"slqdf_filtered_nyc\")\n",
    "\n",
    "# Hacemos una consulta para extraer el viaje de mayor distancia de cada venderor.\n",
    "results <- sql(\"select VendorID, MAX(trip_distance) from slqdf_filtered_nyc GROUP BY VendorID \")"
   ]
  },
  {
   "cell_type": "code",
   "execution_count": 67,
   "metadata": {
    "collapsed": false
   },
   "outputs": [
    {
     "data": {
      "text/html": [
       "<table>\n",
       "<thead><tr><th scope=col>VendorID</th><th scope=col>max(trip_distance)</th></tr></thead>\n",
       "<tbody>\n",
       "\t<tr><td>1     </td><td>30.400</td></tr>\n",
       "\t<tr><td>2     </td><td>30.176</td></tr>\n",
       "</tbody>\n",
       "</table>\n"
      ],
      "text/latex": [
       "\\begin{tabular}{r|ll}\n",
       " VendorID & max(trip\\_distance)\\\\\n",
       "\\hline\n",
       "\t 1      & 30.400\\\\\n",
       "\t 2      & 30.176\\\\\n",
       "\\end{tabular}\n"
      ],
      "text/plain": [
       "  VendorID max(trip_distance)\n",
       "1 1        30.400            \n",
       "2 2        30.176            "
      ]
     },
     "metadata": {},
     "output_type": "display_data"
    }
   ],
   "source": [
    "# Vemos el resultado.\n",
    "head(results)"
   ]
  },
  {
   "cell_type": "markdown",
   "metadata": {},
   "source": [
    "Buscamos el total de kilómetros recorridos por cada vendedor:"
   ]
  },
  {
   "cell_type": "code",
   "execution_count": 68,
   "metadata": {
    "collapsed": false
   },
   "outputs": [
    {
     "data": {
      "text/html": [
       "<table>\n",
       "<thead><tr><th scope=col>VendorID</th><th scope=col>sum(trip_distance)</th></tr></thead>\n",
       "<tbody>\n",
       "\t<tr><td>1       </td><td> 605.120</td></tr>\n",
       "\t<tr><td>2       </td><td>1054.416</td></tr>\n",
       "</tbody>\n",
       "</table>\n"
      ],
      "text/latex": [
       "\\begin{tabular}{r|ll}\n",
       " VendorID & sum(trip\\_distance)\\\\\n",
       "\\hline\n",
       "\t 1        &  605.120\\\\\n",
       "\t 2        & 1054.416\\\\\n",
       "\\end{tabular}\n"
      ],
      "text/plain": [
       "  VendorID sum(trip_distance)\n",
       "1 1         605.120          \n",
       "2 2        1054.416          "
      ]
     },
     "metadata": {},
     "output_type": "display_data"
    }
   ],
   "source": [
    "results <- sql(\"select VendorID, SUM(trip_distance) from slqdf_filtered_nyc GROUP BY VendorID \")\n",
    "\n",
    "# Vemos el resultado\n",
    "head(results)"
   ]
  },
  {
   "cell_type": "markdown",
   "metadata": {},
   "source": [
    "Calculamos el tiempo en segundos"
   ]
  },
  {
   "cell_type": "code",
   "execution_count": 71,
   "metadata": {
    "collapsed": false
   },
   "outputs": [
    {
     "data": {
      "text/html": [
       "<table>\n",
       "<thead><tr><th scope=col>VendorID</th><th scope=col>sum(trip_time)</th></tr></thead>\n",
       "<tbody>\n",
       "\t<tr><td>1     </td><td> 75020</td></tr>\n",
       "\t<tr><td>2     </td><td>187095</td></tr>\n",
       "</tbody>\n",
       "</table>\n"
      ],
      "text/latex": [
       "\\begin{tabular}{r|ll}\n",
       " VendorID & sum(trip\\_time)\\\\\n",
       "\\hline\n",
       "\t 1      &  75020\\\\\n",
       "\t 2      & 187095\\\\\n",
       "\\end{tabular}\n"
      ],
      "text/plain": [
       "  VendorID sum(trip_time)\n",
       "1 1         75020        \n",
       "2 2        187095        "
      ]
     },
     "metadata": {},
     "output_type": "display_data"
    }
   ],
   "source": [
    "results <- sql(\"select VendorID, SUM(trip_time) from slqdf_filtered_nyc GROUP BY VendorID \")\n",
    "\n",
    "# Vemos los resultados\n",
    "head(results)"
   ]
  },
  {
   "cell_type": "markdown",
   "metadata": {},
   "source": [
    "Calculamos el tiempo en minutos"
   ]
  },
  {
   "cell_type": "code",
   "execution_count": 73,
   "metadata": {
    "collapsed": false
   },
   "outputs": [
    {
     "data": {
      "text/html": [
       "<table>\n",
       "<thead><tr><th scope=col>VendorID</th><th scope=col>min_trip</th></tr></thead>\n",
       "<tbody>\n",
       "\t<tr><td>1       </td><td>1250.333</td></tr>\n",
       "\t<tr><td>2       </td><td>3118.250</td></tr>\n",
       "</tbody>\n",
       "</table>\n"
      ],
      "text/latex": [
       "\\begin{tabular}{r|ll}\n",
       " VendorID & min\\_trip\\\\\n",
       "\\hline\n",
       "\t 1        & 1250.333\\\\\n",
       "\t 2        & 3118.250\\\\\n",
       "\\end{tabular}\n"
      ],
      "text/plain": [
       "  VendorID min_trip\n",
       "1 1        1250.333\n",
       "2 2        3118.250"
      ]
     },
     "metadata": {},
     "output_type": "display_data"
    }
   ],
   "source": [
    "results <- sql(\"select VendorID, SUM(trip_time)/60.0 as min_trip from slqdf_filtered_nyc GROUP BY VendorID \")\n",
    "\n",
    "# Vemos los resultados\n",
    "head(results)"
   ]
  },
  {
   "cell_type": "markdown",
   "metadata": {},
   "source": [
    "Buscamos la ganacia total cada vendedor:"
   ]
  },
  {
   "cell_type": "code",
   "execution_count": 74,
   "metadata": {
    "collapsed": false
   },
   "outputs": [
    {
     "data": {
      "text/html": [
       "<table>\n",
       "<thead><tr><th scope=col>VendorID</th><th scope=col>Total_Amount_Euro</th></tr></thead>\n",
       "<tbody>\n",
       "\t<tr><td>1       </td><td>1939.596</td></tr>\n",
       "\t<tr><td>2       </td><td>3243.752</td></tr>\n",
       "</tbody>\n",
       "</table>\n"
      ],
      "text/latex": [
       "\\begin{tabular}{r|ll}\n",
       " VendorID & Total\\_Amount\\_Euro\\\\\n",
       "\\hline\n",
       "\t 1        & 1939.596\\\\\n",
       "\t 2        & 3243.752\\\\\n",
       "\\end{tabular}\n"
      ],
      "text/plain": [
       "  VendorID Total_Amount_Euro\n",
       "1 1        1939.596         \n",
       "2 2        3243.752         "
      ]
     },
     "metadata": {},
     "output_type": "display_data"
    }
   ],
   "source": [
    "results <- sql(\"select VendorID, SUM(total_amount)*1.10373 as Total_Amount_Euro from slqdf_filtered_nyc GROUP BY VendorID \")\n",
    "\n",
    "# Vemos el resultado\n",
    "head(results)"
   ]
  },
  {
   "cell_type": "markdown",
   "metadata": {},
   "source": [
    "Calculamos la media y la desviación típica del tiempo de recorrido y ganancia por numero de personas: "
   ]
  },
  {
   "cell_type": "code",
   "execution_count": 75,
   "metadata": {
    "collapsed": false
   },
   "outputs": [
    {
     "data": {
      "text/html": [
       "<table>\n",
       "<thead><tr><th scope=col>passenger_count</th><th scope=col>avg(trip_time)</th><th scope=col>avg(total_amount)</th><th scope=col>avg(trip_distance)</th></tr></thead>\n",
       "<tbody>\n",
       "\t<tr><td>1        </td><td>1147.2360</td><td>17.33975 </td><td> 5.866236</td></tr>\n",
       "\t<tr><td>2        </td><td> 877.6905</td><td>20.76762 </td><td> 7.781714</td></tr>\n",
       "\t<tr><td>3        </td><td> 763.6667</td><td>20.23222 </td><td> 7.607111</td></tr>\n",
       "\t<tr><td>4        </td><td>1579.1667</td><td>39.96667 </td><td>15.408000</td></tr>\n",
       "\t<tr><td>5        </td><td> 722.7500</td><td>20.97500 </td><td> 8.040000</td></tr>\n",
       "\t<tr><td>6        </td><td> 842.3333</td><td>18.31867 </td><td> 6.579200</td></tr>\n",
       "</tbody>\n",
       "</table>\n"
      ],
      "text/latex": [
       "\\begin{tabular}{r|llll}\n",
       " passenger\\_count & avg(trip\\_time) & avg(total\\_amount) & avg(trip\\_distance)\\\\\n",
       "\\hline\n",
       "\t 1         & 1147.2360 & 17.33975  &  5.866236\\\\\n",
       "\t 2         &  877.6905 & 20.76762  &  7.781714\\\\\n",
       "\t 3         &  763.6667 & 20.23222  &  7.607111\\\\\n",
       "\t 4         & 1579.1667 & 39.96667  & 15.408000\\\\\n",
       "\t 5         &  722.7500 & 20.97500  &  8.040000\\\\\n",
       "\t 6         &  842.3333 & 18.31867  &  6.579200\\\\\n",
       "\\end{tabular}\n"
      ],
      "text/plain": [
       "  passenger_count avg(trip_time) avg(total_amount) avg(trip_distance)\n",
       "1 1               1147.2360      17.33975           5.866236         \n",
       "2 2                877.6905      20.76762           7.781714         \n",
       "3 3                763.6667      20.23222           7.607111         \n",
       "4 4               1579.1667      39.96667          15.408000         \n",
       "5 5                722.7500      20.97500           8.040000         \n",
       "6 6                842.3333      18.31867           6.579200         "
      ]
     },
     "metadata": {},
     "output_type": "display_data"
    }
   ],
   "source": [
    "results <- sql(\"select passenger_count, AVG(trip_time), AVG(total_amount) ,AVG(trip_distance)   \n",
    "                from slqdf_filtered_nyc \n",
    "                GROUP BY passenger_count \n",
    "                order by passenger_count ASC \")\n",
    "head(results)"
   ]
  },
  {
   "cell_type": "markdown",
   "metadata": {},
   "source": [
    "Coeficiente de correlación"
   ]
  },
  {
   "cell_type": "code",
   "execution_count": 76,
   "metadata": {
    "collapsed": false
   },
   "outputs": [
    {
     "data": {
      "text/html": [
       "<table>\n",
       "<thead><tr><th scope=col>correlation_coef</th></tr></thead>\n",
       "<tbody>\n",
       "\t<tr><td>0.9101879</td></tr>\n",
       "</tbody>\n",
       "</table>\n"
      ],
      "text/latex": [
       "\\begin{tabular}{r|l}\n",
       " correlation\\_coef\\\\\n",
       "\\hline\n",
       "\t 0.9101879\\\\\n",
       "\\end{tabular}\n"
      ],
      "text/plain": [
       "  correlation_coef\n",
       "1 0.9101879       "
      ]
     },
     "metadata": {},
     "output_type": "display_data"
    }
   ],
   "source": [
    "results <- sql(\"select corr(total_amount,trip_distance) as correlation_coef\n",
    "                from \n",
    "                slqdf_filtered_nyc\")\n",
    "# Ver resultados\n",
    "head(results)"
   ]
  },
  {
   "cell_type": "code",
   "execution_count": 78,
   "metadata": {
    "collapsed": false
   },
   "outputs": [
    {
     "data": {
      "text/html": [
       "<table>\n",
       "<thead><tr><th scope=col>correlation_coef</th></tr></thead>\n",
       "<tbody>\n",
       "\t<tr><td>0.05847827</td></tr>\n",
       "</tbody>\n",
       "</table>\n"
      ],
      "text/latex": [
       "\\begin{tabular}{r|l}\n",
       " correlation\\_coef\\\\\n",
       "\\hline\n",
       "\t 0.05847827\\\\\n",
       "\\end{tabular}\n"
      ],
      "text/plain": [
       "  correlation_coef\n",
       "1 0.05847827      "
      ]
     },
     "metadata": {},
     "output_type": "display_data"
    }
   ],
   "source": [
    "results <- sql(\"select corr(total_amount,trip_time) as correlation_coef\n",
    "                from \n",
    "                slqdf_filtered_nyc\")\n",
    "head(results)"
   ]
  },
  {
   "cell_type": "code",
   "execution_count": 79,
   "metadata": {
    "collapsed": false
   },
   "outputs": [
    {
     "data": {
      "text/html": [
       "<table>\n",
       "<thead><tr><th scope=col>correlation_coef</th></tr></thead>\n",
       "<tbody>\n",
       "\t<tr><td>0.07503141</td></tr>\n",
       "</tbody>\n",
       "</table>\n"
      ],
      "text/latex": [
       "\\begin{tabular}{r|l}\n",
       " correlation\\_coef\\\\\n",
       "\\hline\n",
       "\t 0.07503141\\\\\n",
       "\\end{tabular}\n"
      ],
      "text/plain": [
       "  correlation_coef\n",
       "1 0.07503141      "
      ]
     },
     "metadata": {},
     "output_type": "display_data"
    }
   ],
   "source": [
    "results <- sql(\"select corr(trip_time,trip_distance) as correlation_coef\n",
    "                from \n",
    "                slqdf_filtered_nyc\")\n",
    "head(results)"
   ]
  },
  {
   "cell_type": "markdown",
   "metadata": {},
   "source": [
    "**¿ Qué deducimos de estos coeficiente de corelación ?**"
   ]
  },
  {
   "cell_type": "markdown",
   "metadata": {
    "collapsed": true
   },
   "source": [
    "## Uso de magittr para el trabajo con los datos"
   ]
  },
  {
   "cell_type": "markdown",
   "metadata": {},
   "source": [
    "El paquete magrittr permite: \n",
    "\n",
    "* mejorar el tiempo de desarrollo y \n",
    "* mejorar enormemente la legibilidad y mantenibilidad del código. \n",
    "\n",
    "Para usarlo hay que importar la biblioteca magrittr dentro del proyecto y apartir de ese momentos podemos utilizar el operador \n",
    "\n",
    "```\n",
    "%>%\n",
    "``` \n",
    "\n",
    "para concaternar operaciones y poder trabajar con flujos de datos y pipelines.\n",
    "\n",
    "Provee de un operador que sirve para hacer `pipes` con el cual se puede `encauzar` un valor hacia adelante dentro de una expresión o llamada a función.\n",
    "\n",
    "Veamos todas las operaciones que hemos realizado sobre los datos y su equivalente con `pipes`."
   ]
  },
  {
   "cell_type": "code",
   "execution_count": 80,
   "metadata": {
    "collapsed": false
   },
   "outputs": [
    {
     "data": {
      "text/html": [
       "<table>\n",
       "<thead><tr><th scope=col>VendorID</th><th scope=col>trip_time</th><th scope=col>passenger_count</th><th scope=col>trip_distance</th><th scope=col>total_amount</th></tr></thead>\n",
       "<tbody>\n",
       "\t<tr><td>2    </td><td> 180 </td><td>2    </td><td>1.120</td><td> 5.8 </td></tr>\n",
       "\t<tr><td>2    </td><td>1260 </td><td>2    </td><td>8.832</td><td>21.3 </td></tr>\n",
       "\t<tr><td>2    </td><td> 651 </td><td>6    </td><td>3.184</td><td>11.5 </td></tr>\n",
       "\t<tr><td>1    </td><td> 312 </td><td>1    </td><td>2.400</td><td> 7.8 </td></tr>\n",
       "\t<tr><td>2    </td><td>1254 </td><td>1    </td><td>8.960</td><td>25.3 </td></tr>\n",
       "\t<tr><td>2    </td><td> 895 </td><td>1    </td><td>7.504</td><td>17.3 </td></tr>\n",
       "</tbody>\n",
       "</table>\n"
      ],
      "text/latex": [
       "\\begin{tabular}{r|lllll}\n",
       " VendorID & trip\\_time & passenger\\_count & trip\\_distance & total\\_amount\\\\\n",
       "\\hline\n",
       "\t 2     &  180  & 2     & 1.120 &  5.8 \\\\\n",
       "\t 2     & 1260  & 2     & 8.832 & 21.3 \\\\\n",
       "\t 2     &  651  & 6     & 3.184 & 11.5 \\\\\n",
       "\t 1     &  312  & 1     & 2.400 &  7.8 \\\\\n",
       "\t 2     & 1254  & 1     & 8.960 & 25.3 \\\\\n",
       "\t 2     &  895  & 1     & 7.504 & 17.3 \\\\\n",
       "\\end{tabular}\n"
      ],
      "text/plain": [
       "  VendorID trip_time passenger_count trip_distance total_amount\n",
       "1 2         180      2               1.120          5.8        \n",
       "2 2        1260      2               8.832         21.3        \n",
       "3 2         651      6               3.184         11.5        \n",
       "4 1         312      1               2.400          7.8        \n",
       "5 2        1254      1               8.960         25.3        \n",
       "6 2         895      1               7.504         17.3        "
      ]
     },
     "metadata": {},
     "output_type": "display_data"
    }
   ],
   "source": [
    "# Hacemos una copia del SparkDataFrame para usarla en una vista temporal en SQL\n",
    "createOrReplaceTempView(df_nyctrips,\"slqdf_filtered_nyc\")\n",
    "\n",
    "# Hacemos una selección de los registros, donde calculamos el tiempo del viaje de cada viaje\n",
    "sql_nyc <- sql(\"select VendorID,INT(unix_timestamp(tpep_dropoff_datetime)- unix_timestamp(tpep_pickup_datetime)) AS trip_time,passenger_count,trip_distance,total_amount from slqdf_filtered_nyc\")\n",
    "\n",
    "head(sql_nyc)\n"
   ]
  },
  {
   "cell_type": "code",
   "execution_count": 120,
   "metadata": {
    "collapsed": false
   },
   "outputs": [
    {
     "data": {
      "text/html": [
       "<table>\n",
       "<thead><tr><th scope=col>passenger_count</th><th scope=col>count</th></tr></thead>\n",
       "<tbody>\n",
       "\t<tr><td>1  </td><td>161</td></tr>\n",
       "\t<tr><td>6  </td><td> 15</td></tr>\n",
       "\t<tr><td>3  </td><td>  9</td></tr>\n",
       "\t<tr><td>5  </td><td> 16</td></tr>\n",
       "\t<tr><td>4  </td><td>  6</td></tr>\n",
       "\t<tr><td>2  </td><td> 42</td></tr>\n",
       "</tbody>\n",
       "</table>\n"
      ],
      "text/latex": [
       "\\begin{tabular}{r|ll}\n",
       " passenger\\_count & count\\\\\n",
       "\\hline\n",
       "\t 1   & 161\\\\\n",
       "\t 6   &  15\\\\\n",
       "\t 3   &   9\\\\\n",
       "\t 5   &  16\\\\\n",
       "\t 4   &   6\\\\\n",
       "\t 2   &  42\\\\\n",
       "\\end{tabular}\n"
      ],
      "text/plain": [
       "  passenger_count count\n",
       "1 1               161  \n",
       "2 6                15  \n",
       "3 3                 9  \n",
       "4 5                16  \n",
       "5 4                 6  \n",
       "6 2                42  "
      ]
     },
     "metadata": {},
     "output_type": "display_data"
    },
    {
     "data": {
      "text/html": [
       "<table>\n",
       "<thead><tr><th scope=col>passenger_count</th><th scope=col>max</th></tr></thead>\n",
       "<tbody>\n",
       "\t<tr><td>1    </td><td>0.000</td></tr>\n",
       "\t<tr><td>6    </td><td>1.792</td></tr>\n",
       "\t<tr><td>3    </td><td>0.000</td></tr>\n",
       "\t<tr><td>5    </td><td>1.136</td></tr>\n",
       "\t<tr><td>4    </td><td>5.168</td></tr>\n",
       "\t<tr><td>2    </td><td>0.464</td></tr>\n",
       "</tbody>\n",
       "</table>\n"
      ],
      "text/latex": [
       "\\begin{tabular}{r|ll}\n",
       " passenger\\_count & max\\\\\n",
       "\\hline\n",
       "\t 1     & 0.000\\\\\n",
       "\t 6     & 1.792\\\\\n",
       "\t 3     & 0.000\\\\\n",
       "\t 5     & 1.136\\\\\n",
       "\t 4     & 5.168\\\\\n",
       "\t 2     & 0.464\\\\\n",
       "\\end{tabular}\n"
      ],
      "text/plain": [
       "  passenger_count max  \n",
       "1 1               0.000\n",
       "2 6               1.792\n",
       "3 3               0.000\n",
       "4 5               1.136\n",
       "5 4               5.168\n",
       "6 2               0.464"
      ]
     },
     "metadata": {},
     "output_type": "display_data"
    },
    {
     "data": {
      "text/html": [
       "<table>\n",
       "<thead><tr><th scope=col>passenger_count</th><th scope=col>min</th><th scope=col>max</th><th scope=col>se</th></tr></thead>\n",
       "<tbody>\n",
       "\t<tr><td>1     </td><td>0.000 </td><td>30.096</td><td>161   </td></tr>\n",
       "\t<tr><td>6     </td><td>1.792 </td><td>19.360</td><td> 15   </td></tr>\n",
       "\t<tr><td>3     </td><td>0.000 </td><td>29.856</td><td>  9   </td></tr>\n",
       "\t<tr><td>5     </td><td>1.136 </td><td>29.648</td><td> 16   </td></tr>\n",
       "\t<tr><td>4     </td><td>5.168 </td><td>30.176</td><td>  6   </td></tr>\n",
       "\t<tr><td>2     </td><td>0.464 </td><td>30.400</td><td> 42   </td></tr>\n",
       "</tbody>\n",
       "</table>\n"
      ],
      "text/latex": [
       "\\begin{tabular}{r|llll}\n",
       " passenger\\_count & min & max & se\\\\\n",
       "\\hline\n",
       "\t 1      & 0.000  & 30.096 & 161   \\\\\n",
       "\t 6      & 1.792  & 19.360 &  15   \\\\\n",
       "\t 3      & 0.000  & 29.856 &   9   \\\\\n",
       "\t 5      & 1.136  & 29.648 &  16   \\\\\n",
       "\t 4      & 5.168  & 30.176 &   6   \\\\\n",
       "\t 2      & 0.464  & 30.400 &  42   \\\\\n",
       "\\end{tabular}\n"
      ],
      "text/plain": [
       "  passenger_count min   max    se \n",
       "1 1               0.000 30.096 161\n",
       "2 6               1.792 19.360  15\n",
       "3 3               0.000 29.856   9\n",
       "4 5               1.136 29.648  16\n",
       "5 4               5.168 30.176   6\n",
       "6 2               0.464 30.400  42"
      ]
     },
     "metadata": {},
     "output_type": "display_data"
    }
   ],
   "source": [
    "# Usamos magrittr\n",
    "library(magrittr)\n",
    "\n",
    "# results <- sql(\"select VendorID, MAX(trip_distance) from slqdf_filtered_nyc GROUP BY VendorID \")\n",
    "#summarize(groupBy(df_nyctrips, df_nyctrips$passenger_count), count = n(df_nyctrips$passenger_count))\n",
    "\n",
    "df_nyctrips %>% \n",
    "        groupBy( df_nyctrips$passenger_count) %>%\n",
    "        summarize(count = n(df_nyctrips$passenger_count)) %>%\n",
    "        head()\n",
    "\n",
    "\n",
    "df_nyctrips %>% \n",
    "        groupBy( df_nyctrips$passenger_count) %>%\n",
    "        summarize(min = min(df_nyctrips$trip_distance),max = max(df_nyctrips$trip_distance)) %>%\n",
    "        head()\n",
    "        "
   ]
  },
  {
   "cell_type": "code",
   "execution_count": 124,
   "metadata": {
    "collapsed": false
   },
   "outputs": [
    {
     "data": {
      "text/html": [
       "249"
      ],
      "text/latex": [
       "249"
      ],
      "text/markdown": [
       "249"
      ],
      "text/plain": [
       "[1] 249"
      ]
     },
     "metadata": {},
     "output_type": "display_data"
    },
    {
     "name": "stdout",
     "output_type": "stream",
     "text": [
      "[1] 249\n"
     ]
    }
   ],
   "source": [
    "count(sql_nyc)\n",
    "num_regs <- as.integer(count(sql_nyc))\n",
    "\n",
    "# Mostramos el número de registros\n",
    "print(num_regs)"
   ]
  },
  {
   "cell_type": "markdown",
   "metadata": {},
   "source": [
    "** ¿Qué es lo mejor: `pipes`, SPARKSQL o funciones? **"
   ]
  },
  {
   "cell_type": "markdown",
   "metadata": {
    "collapsed": false
   },
   "source": [
    "<HR>\n",
    "# Zona de pruebas del NOTEBOOK en SparkR\n",
    "![FooterSparkR](https://sites.google.com/site/manuparra/home/footer_SparkR_v2.png)\n"
   ]
  },
  {
   "cell_type": "markdown",
   "metadata": {
    "collapsed": false
   },
   "source": [
    "Escribe todas las pruebas en R que necesites a partir de aquí\n",
    "\n",
    "<HR>"
   ]
  }
 ],
 "metadata": {
  "anaconda-cloud": {},
  "kernelspec": {
   "display_name": "R",
   "language": "R",
   "name": "ir"
  },
  "language_info": {
   "codemirror_mode": "r",
   "file_extension": ".r",
   "mimetype": "text/x-r-source",
   "name": "R",
   "pygments_lexer": "r",
   "version": "3.3.1"
  }
 },
 "nbformat": 4,
 "nbformat_minor": 1
}
